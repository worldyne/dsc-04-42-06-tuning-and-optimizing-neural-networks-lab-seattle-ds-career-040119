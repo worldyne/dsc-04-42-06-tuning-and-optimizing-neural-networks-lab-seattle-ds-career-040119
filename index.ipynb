{
 "cells": [
  {
   "cell_type": "markdown",
   "metadata": {},
   "source": [
    "# Tuning and Optimizing Neural Networks - Lab\n",
    "\n",
    "## Introduction\n",
    "\n",
    "Now that we've discussed some regularization, initialization and optimization techniques, its time to synthesize those concepts into a cohesive modelling pipeline.  \n",
    "\n",
    "With this pipeline, yoiu will not only fit an initial model but will also attempt to set various hyperparameters for regularization techniques. Your final model selection will pertain to the test metrics across these models. This will more naturally simulate a problem you might be faced with in practice, and the various modelling decisions you are apt to encounter along the way.  \n",
    "\n",
    "Recall that our end objective is to achieve a balance between overfitting and underfitting. We've discussed the bias variance tradeoff, and the role of regularization in order to reduce overfitting on training data and improving generalization to new cases. Common frameworks for such a procedure include train/validate/test methodology when data is plentiful, and K-folds cross-validation for smaller, more limited datasets. In this lab, you'll perform the latter, as the dataset in question is fairly limited. \n",
    "\n",
    "## Objectives\n",
    "\n",
    "You will be able to:\n",
    "\n",
    "* Implement a K-folds cross validation modelling pipeline\n",
    "* Apply normalization as a preprocessing technique\n",
    "* Apply regularization techniques to improve your model's generalization\n",
    "* Choose an appropriate optimization strategy "
   ]
  },
  {
   "cell_type": "markdown",
   "metadata": {},
   "source": [
    "## Loading the Data"
   ]
  },
  {
   "cell_type": "code",
   "execution_count": 47,
   "metadata": {},
   "outputs": [],
   "source": [
    "#Your code here; load and preview the dataset\n",
    "import pandas as pd\n",
    "df = pd.read_csv('loan_final.csv')\n",
    "df.head().T\n",
    "df.dropna(inplace=True)"
   ]
  },
  {
   "cell_type": "markdown",
   "metadata": {},
   "source": [
    "## Defining the Problem\n",
    "\n",
    "Set up the problem by defining X and Y. \n",
    "\n",
    "For this problem use the following variables for X:\n",
    "* loan_amnt\n",
    "* home_ownership\n",
    "* funded_amnt_inv\n",
    "* verification_status\n",
    "* emp_length\n",
    "* installment\n",
    "* annual_inc\n",
    "\n",
    "Be sure to use dummy variables for categorical variables and to normalize numerical quanitities. Be sure to also remove any rows with null data.  \n",
    "\n",
    "For Y, we are looking to build a model to predict the total payment received for a loan."
   ]
  },
  {
   "cell_type": "code",
   "execution_count": 55,
   "metadata": {},
   "outputs": [],
   "source": [
    "# Your code here; appropriately define X and Y using dummy variables and normalization for preprocessing.\n",
    "from sklearn.preprocessing import OneHotEncoder, StandardScaler\n",
    "import numpy as np\n",
    "\n",
    "X = df[['loan_amnt', 'home_ownership', 'funded_amnt_inv', 'verification_status',\n",
    "       'emp_length', 'installment', 'annual_inc']]\n",
    "ohe = OneHotEncoder()\n",
    "ss = StandardScaler()\n",
    "\n",
    "enc_ho = X['home_ownership']\n",
    "enc_vs = X['verification_status']\n",
    "enc_emp = X['emp_length']\n",
    "enc_ho = enc_ho.values.reshape(-1,1)\n",
    "enc_vs = enc_vs.values.reshape(-1,1)\n",
    "enc_emp = enc_emp.values.reshape(-1, 1)\n",
    "ohe.fit(enc_ho)\n",
    "enc_ho = pd.DataFrame(ohe.transform(enc_ho).toarray(), columns=ohe.get_feature_names(['home_ownership']))\n",
    "ohe.fit(enc_vs)\n",
    "enc_vs = pd.DataFrame(ohe.transform(enc_vs).toarray(), columns=ohe.get_feature_names(['verification_status']))\n",
    "ohe.fit(enc_emp)\n",
    "enc_emp = pd.DataFrame(ohe.transform(enc_emp).toarray(), columns=ohe.get_feature_names(['emp_length']))\n",
    "\n",
    "X_s = X.drop(['home_ownership', 'verification_status', 'emp_length'],axis=1)\n",
    "X_s = pd.DataFrame(ss.fit_transform(X_s), columns=X_s.columns)\n",
    "\n",
    "X = pd.concat([X_s, enc_ho, enc_vs], axis=1)\n",
    "\n",
    "y = pd.DataFrame(ss.fit_transform(df['total_pymnt'].values.reshape(-1, 1)))\n",
    "\n"
   ]
  },
  {
   "cell_type": "markdown",
   "metadata": {},
   "source": [
    "## Generating a Hold Out Test Set\n",
    "\n",
    "While we will be using K-fold cross validation to select an optimal model, we still want a final hold out test set that is completely independent of any modelling decisions. As such, pull out a sample of 10% of the total available data. For consistency of results, use random seed 123. "
   ]
  },
  {
   "cell_type": "code",
   "execution_count": 56,
   "metadata": {},
   "outputs": [],
   "source": [
    "# Your code here; generate a hold out test set for final model evaluation. Use random seed 123.\n",
    "from sklearn.model_selection import train_test_split\n",
    "X_train, X_test, y_train, y_test = train_test_split(X, y, test_size=.1, random_state=123)"
   ]
  },
  {
   "cell_type": "markdown",
   "metadata": {},
   "source": [
    "## Defining a K-fold Cross Validation Methodology\n",
    "\n",
    "Now that your have a complete holdout test set, write a function that takes in the remaining data and performs k-folds cross validation given a model object. Be sure your function returns performance metrics regarding the training and validation sets."
   ]
  },
  {
   "cell_type": "code",
   "execution_count": 57,
   "metadata": {},
   "outputs": [],
   "source": [
    "#Your code here; define a function to evaluate a model object using K folds cross validation.\n",
    "from sklearn.model_selection import KFold\n",
    "\n",
    "def k_folds(features_train, labels_train, model_obj, k=10, n_epochs=100):\n",
    "    colors = sns.color_palette(\"Set2\")\n",
    "    kf = KFold(n_splits=10,shuffle=True)\n",
    "    \n",
    "    fig, axes = plt.subplots(2, 5, figsize=(12,8))\n",
    "    validation_scores = []\n",
    "    for i, (train_index, test_index) in enumerate(kf.split(features_train)):\n",
    "        row = i//5\n",
    "        column = i%5\n",
    "        \n",
    "        X_train, X_val = features_train.iloc[train_index], features_train.iloc[test_index]\n",
    "        y_train, y_val = labels_train.iloc[train_index], labels_train.iloc[test_index]\n",
    "        \n",
    "        model = model_obj\n",
    "        hist = model.fit(X_train, y_train, validation_data=(X_val, y_val), epochs=n_epochs, batch_size=32,\n",
    "                        verbose=0)\n",
    "        \n",
    "        validation = model.evaluate(X_val, y_val)\n",
    "        validation_scores.append(validation)\n",
    "        ax = axes[row,col]\n",
    "        k = 'val_loss'\n",
    "        d = hist.history[k]\n",
    "        ax.plot(d, label=k, colors=colors[1])\n",
    "        ax.set_title(f'Fold {i+1} Validation')\n",
    "    plt.subplots_adjust(left=None, right=None, bottom=None, top=None, wspace=.5, hspace=None)\n",
    "    plt.legend(bbox_to_anchor=(1, 1))\n",
    "    \n",
    "    validation_score = np.mean(validation_scores)\n",
    "    print(f'Mean Validation Score: {validation_score}')\n",
    "    print(f'STD of Validation Scores: {np.std(validation_scores)}')\n",
    "    return validation_score"
   ]
  },
  {
   "cell_type": "markdown",
   "metadata": {},
   "source": [
    "## Building a Baseline Model\n",
    "\n",
    "Here, it is also important to define your evaluation metric that you will look to optimize while tuning the model.   \n",
    "\n",
    "In general, model training to optimize this metric may consist of using a validation and test set if data is plentiful, or k-folds cross-validation if data is limited. We set up a k-folds cross-validation for this task since the dataset is not overly large.  \n",
    "\n",
    "Build an initial sequential model with 2 hidden relu layers. The first should have 7 hidden units, and the second 10 hidden units. Finally, add a third layer with a linear activation function to output our predictions for the total loan payment. "
   ]
  },
  {
   "cell_type": "code",
   "execution_count": 58,
   "metadata": {},
   "outputs": [],
   "source": [
    "#Your code here; define and compile an initial model as described\n",
    "from keras import Sequential\n",
    "from keras.layers import Dense\n",
    "\n",
    "inputs = X_train.shape[1]\n",
    "model = Sequential()\n",
    "model.add(Dense(inputs, activation='relu'))\n",
    "model.add(Dense(7, activation='relu'))\n",
    "model.add(Dense(10, activation='relu'))\n",
    "model.add(Dense(1, activation='linear'))\n",
    "model.compile(optimizer='adam', loss='mse', metrics=['acc'])"
   ]
  },
  {
   "cell_type": "markdown",
   "metadata": {},
   "source": [
    "## Evaluating the Baseline Model with K-Folds Cross Validation\n",
    "\n",
    "Use your k-folds function to evaluate the baseline model.  \n",
    "\n",
    "Note: This code block is likely to take 10-20 minutes to run depending on the specs on your computer.\n",
    "Because of time dependencies, it can be interesting to begin timing these operations for future reference.\n",
    "\n",
    "Here's a simple little recipe to achieve this:\n",
    "```\n",
    "import time\n",
    "import datetime\n",
    "\n",
    "now = datetime.datetime.now()\n",
    "later = datetime.datetime.now()\n",
    "elapsed = later - now\n",
    "print('Time Elapsed:', elapsed)\n",
    "```"
   ]
  },
  {
   "cell_type": "code",
   "execution_count": 59,
   "metadata": {},
   "outputs": [
    {
     "ename": "ValueError",
     "evalue": "Please provide as model inputs either a single array or a list of arrays. You passed: x=       loan_amnt  funded_amnt_inv  installment  annual_inc  \\\n24018   0.112849         0.021326    -0.286460    0.189661   \n5523   -0.669251        -0.559691    -0.587677   -0.151157   \n33432  -0.831064        -0.727696    -0.806909   -0.306075   \n9059    0.921917         1.092359     1.162835    0.158677   \n11496  -0.426530        -0.307683    -0.255482   -0.076797   \n10788   1.326451         1.473870     1.569174    0.236136   \n11880   0.348827         0.497341     0.567523   -0.073699   \n28438  -0.831064        -0.727962    -0.902853   -0.161135   \n20978  -0.197294        -0.069676     0.033736    0.282611   \n18620  -1.168176        -1.077707    -1.139343    1.010722   \n12271  -1.019847        -0.923702    -1.017871   -0.615909   \n12785  -0.426530        -0.311184    -0.319302   -0.306075   \n37820  -0.156841        -0.916615    -0.008810   -0.528149   \n28404  -1.235598        -1.147709    -1.254026   -0.848285   \n27791  -0.561375        -0.451188    -0.691126   -0.662384   \n1519   -0.156841        -0.038175    -0.098157   -0.151157   \n3689   -0.898487        -0.797698    -0.892623   -0.597877   \n35674  -1.073785        -0.983204    -1.043495   -0.848285   \n25080   1.326451         1.508872     1.876989    0.011506   \n23028   0.247693         0.378337     0.607296    0.050173   \n36915  -0.831064        -1.031902    -0.753177    0.174169   \n35667   0.921917         0.724679     1.274697    0.778346   \n17281   0.257807         0.402838     0.385148   -0.538451   \n29615   0.517383         0.595344     0.689903    0.391053   \n30932  -0.534406        -0.437187    -0.444454   -0.460992   \n27396  -0.156841        -0.111678    -0.057714    0.545970   \n33601  -0.561375        -0.472188    -0.489916   -0.522959   \n34426   1.191606         0.528842     1.841135    0.313595   \n25266  -0.156841        -0.027675     0.071693   -0.259537   \n11148   3.214277         1.467554     1.400758    0.313595   \n...          ...              ...          ...         ...   \n29534  -1.235598        -1.147709    -1.225343   -0.783592   \n28513  -0.864775        -0.767819    -0.808439   -0.956727   \n17766   2.270364         2.263083     1.730467    3.179564   \n3252   -0.696220        -0.622693    -0.604409   -0.615909   \n8028   -0.264716        -0.139678    -0.529977   -0.359180   \n2428    1.488265         1.680377     2.006874    2.404978   \n4195    1.191606         1.337366     1.438524    1.243098   \n22461   0.112849        -0.561773    -0.473328   -0.151157   \n6648   -1.316505        -1.231711    -1.323486   -0.569434   \n30255  -0.291685        -0.175431    -0.207295    0.006486   \n41391  -1.235598        -1.249212    -1.257373    1.243098   \n6484    0.632001         0.756349     0.121266   -0.480811   \n26626  -0.561375        -0.447688    -0.517739    0.468450   \n17476  -1.090640        -0.997204    -1.109752   -0.522959   \n14944  -1.033331        -0.937703    -1.001474   -0.592672   \n31140   0.247693         0.236882     0.390837    0.009957   \n3325   -0.561375        -0.447688    -0.405015   -0.120174   \n35662  -1.100754        -1.007705    -1.094932   -0.584864   \n17747  -0.156841        -0.027675    -0.591549    0.236136   \n36249  -0.628797        -0.573692    -0.579407    0.344578   \n111    -0.021996         0.112329     0.061463   -0.374114   \n33710  -0.858033        -0.755697    -0.773685   -0.058207   \n23166   0.517383        -0.125678    -0.674681   -0.073699   \n96      1.191606         0.360837    -0.200937   -0.340156   \n22241   0.921917         1.063115     0.290447    1.258590   \n7763    0.382538         0.532342     0.482622    1.707850   \n15377  -1.168176        -1.077707    -1.175913   -0.430008   \n17730  -0.156841        -0.027675     0.014423   -0.383533   \n28030   1.865830         0.585861     0.897853    0.623429   \n15725  -0.156841        -0.038175    -0.062590    0.158677   \n\n       home_ownership_MORTGAGE  home_ownership_NONE  home_ownership_OTHER  \\\n24018                      1.0                  0.0                   0.0   \n5523                       0.0                  0.0                   0.0   \n33432                      1.0                  0.0                   0.0   \n9059                       0.0                  0.0                   0.0   \n11496                      0.0                  0.0                   0.0   \n10788                      1.0                  0.0                   0.0   \n11880                      1.0                  0.0                   0.0   \n28438                      0.0                  0.0                   0.0   \n20978                      0.0                  0.0                   0.0   \n18620                      1.0                  0.0                   0.0   \n12271                      0.0                  0.0                   0.0   \n12785                      0.0                  0.0                   0.0   \n37820                      0.0                  0.0                   0.0   \n28404                      0.0                  0.0                   0.0   \n27791                      0.0                  0.0                   0.0   \n1519                       1.0                  0.0                   0.0   \n3689                       1.0                  0.0                   0.0   \n35674                      0.0                  0.0                   0.0   \n25080                      0.0                  0.0                   0.0   \n23028                      0.0                  0.0                   0.0   \n36915                      1.0                  0.0                   0.0   \n35667                      1.0                  0.0                   0.0   \n17281                      1.0                  0.0                   0.0   \n29615                      1.0                  0.0                   0.0   \n30932                      0.0                  0.0                   0.0   \n27396                      1.0                  0.0                   0.0   \n33601                      0.0                  0.0                   0.0   \n34426                      1.0                  0.0                   0.0   \n25266                      1.0                  0.0                   0.0   \n11148                      1.0                  0.0                   0.0   \n...                        ...                  ...                   ...   \n29534                      0.0                  0.0                   0.0   \n28513                      0.0                  0.0                   0.0   \n17766                      0.0                  0.0                   0.0   \n3252                       0.0                  0.0                   0.0   \n8028                       0.0                  0.0                   0.0   \n2428                       0.0                  0.0                   0.0   \n4195                       1.0                  0.0                   0.0   \n22461                      0.0                  0.0                   0.0   \n6648                       0.0                  0.0                   0.0   \n30255                      0.0                  0.0                   0.0   \n41391                      1.0                  0.0                   0.0   \n6484                       1.0                  0.0                   0.0   \n26626                      1.0                  0.0                   0.0   \n17476                      0.0                  0.0                   0.0   \n14944                      0.0                  0.0                   0.0   \n31140                      1.0                  0.0                   0.0   \n3325                       0.0                  0.0                   0.0   \n35662                      0.0                  0.0                   0.0   \n17747                      1.0                  0.0                   0.0   \n36249                      0.0                  0.0                   0.0   \n111                        0.0                  0.0                   0.0   \n33710                      0.0                  0.0                   0.0   \n23166                      1.0                  0.0                   0.0   \n96                         1.0                  0.0                   0.0   \n22241                      1.0                  0.0                   0.0   \n7763                       0.0                  0.0                   0.0   \n15377                      0.0                  0.0                   0.0   \n17730                      0.0                  0.0                   0.0   \n28030                      1.0                  0.0                   0.0   \n15725                      1.0                  0.0                   0.0   \n\n       home_ownership_OWN  home_ownership_RENT  \\\n24018                 0.0                  0.0   \n5523                  0.0                  1.0   \n33432                 0.0                  0.0   \n9059                  0.0                  1.0   \n11496                 0.0                  1.0   \n10788                 0.0                  0.0   \n11880                 0.0                  0.0   \n28438                 0.0                  1.0   \n20978                 0.0                  1.0   \n18620                 0.0                  0.0   \n12271                 0.0                  1.0   \n12785                 0.0                  1.0   \n37820                 0.0                  1.0   \n28404                 0.0                  1.0   \n27791                 0.0                  1.0   \n1519                  0.0                  0.0   \n3689                  0.0                  0.0   \n35674                 0.0                  1.0   \n25080                 0.0                  1.0   \n23028                 0.0                  1.0   \n36915                 0.0                  0.0   \n35667                 0.0                  0.0   \n17281                 0.0                  0.0   \n29615                 0.0                  0.0   \n30932                 0.0                  1.0   \n27396                 0.0                  0.0   \n33601                 0.0                  1.0   \n34426                 0.0                  0.0   \n25266                 0.0                  0.0   \n11148                 0.0                  0.0   \n...                   ...                  ...   \n29534                 0.0                  1.0   \n28513                 0.0                  1.0   \n17766                 0.0                  1.0   \n3252                  0.0                  1.0   \n8028                  0.0                  1.0   \n2428                  0.0                  1.0   \n4195                  0.0                  0.0   \n22461                 1.0                  0.0   \n6648                  0.0                  1.0   \n30255                 0.0                  1.0   \n41391                 0.0                  0.0   \n6484                  0.0                  0.0   \n26626                 0.0                  0.0   \n17476                 0.0                  1.0   \n14944                 0.0                  1.0   \n31140                 0.0                  0.0   \n3325                  0.0                  1.0   \n35662                 0.0                  1.0   \n17747                 0.0                  0.0   \n36249                 0.0                  1.0   \n111                   1.0                  0.0   \n33710                 0.0                  1.0   \n23166                 0.0                  0.0   \n96                    0.0                  0.0   \n22241                 0.0                  0.0   \n7763                  1.0                  0.0   \n15377                 0.0                  1.0   \n17730                 0.0                  1.0   \n28030                 0.0                  0.0   \n15725                 0.0                  0.0   \n\n       verification_status_Not Verified  verification_status_Source Verified  \\\n24018                               0.0                                  1.0   \n5523                                1.0                                  0.0   \n33432                               1.0                                  0.0   \n9059                                0.0                                  1.0   \n11496                               0.0                                  0.0   \n10788                               0.0                                  1.0   \n11880                               0.0                                  0.0   \n28438                               1.0                                  0.0   \n20978                               0.0                                  1.0   \n18620                               0.0                                  1.0   \n12271                               0.0                                  1.0   \n12785                               0.0                                  0.0   \n37820                               1.0                                  0.0   \n28404                               0.0                                  1.0   \n27791                               0.0                                  1.0   \n1519                                1.0                                  0.0   \n3689                                0.0                                  1.0   \n35674                               1.0                                  0.0   \n25080                               0.0                                  0.0   \n23028                               0.0                                  0.0   \n36915                               1.0                                  0.0   \n35667                               1.0                                  0.0   \n17281                               1.0                                  0.0   \n29615                               1.0                                  0.0   \n30932                               1.0                                  0.0   \n27396                               1.0                                  0.0   \n33601                               1.0                                  0.0   \n34426                               0.0                                  0.0   \n25266                               1.0                                  0.0   \n11148                               0.0                                  1.0   \n...                                 ...                                  ...   \n29534                               1.0                                  0.0   \n28513                               1.0                                  0.0   \n17766                               0.0                                  0.0   \n3252                                0.0                                  1.0   \n8028                                0.0                                  1.0   \n2428                                0.0                                  1.0   \n4195                                0.0                                  1.0   \n22461                               0.0                                  1.0   \n6648                                0.0                                  1.0   \n30255                               1.0                                  0.0   \n41391                               1.0                                  0.0   \n6484                                0.0                                  0.0   \n26626                               0.0                                  0.0   \n17476                               1.0                                  0.0   \n14944                               0.0                                  1.0   \n31140                               1.0                                  0.0   \n3325                                0.0                                  0.0   \n35662                               1.0                                  0.0   \n17747                               1.0                                  0.0   \n36249                               0.0                                  1.0   \n111                                 0.0                                  1.0   \n33710                               1.0                                  0.0   \n23166                               0.0                                  1.0   \n96                                  0.0                                  0.0   \n22241                               1.0                                  0.0   \n7763                                0.0                                  1.0   \n15377                               0.0                                  1.0   \n17730                               1.0                                  0.0   \n28030                               0.0                                  0.0   \n15725                               0.0                                  0.0   \n\n       verification_status_Verified  \n24018                           0.0  \n5523                            0.0  \n33432                           0.0  \n9059                            0.0  \n11496                           1.0  \n10788                           0.0  \n11880                           1.0  \n28438                           0.0  \n20978                           0.0  \n18620                           0.0  \n12271                           0.0  \n12785                           1.0  \n37820                           0.0  \n28404                           0.0  \n27791                           0.0  \n1519                            0.0  \n3689                            0.0  \n35674                           0.0  \n25080                           1.0  \n23028                           1.0  \n36915                           0.0  \n35667                           0.0  \n17281                           0.0  \n29615                           0.0  \n30932                           0.0  \n27396                           0.0  \n33601                           0.0  \n34426                           1.0  \n25266                           0.0  \n11148                           0.0  \n...                             ...  \n29534                           0.0  \n28513                           0.0  \n17766                           1.0  \n3252                            0.0  \n8028                            0.0  \n2428                            0.0  \n4195                            0.0  \n22461                           0.0  \n6648                            0.0  \n30255                           0.0  \n41391                           0.0  \n6484                            1.0  \n26626                           1.0  \n17476                           0.0  \n14944                           0.0  \n31140                           0.0  \n3325                            1.0  \n35662                           0.0  \n17747                           0.0  \n36249                           0.0  \n111                             0.0  \n33710                           0.0  \n23166                           0.0  \n96                              1.0  \n22241                           0.0  \n7763                            0.0  \n15377                           0.0  \n17730                           0.0  \n28030                           1.0  \n15725                           1.0  \n\n[33528 rows x 12 columns]",
     "output_type": "error",
     "traceback": [
      "\u001b[0;31m\u001b[0m",
      "\u001b[0;31mValueError\u001b[0mTraceback (most recent call last)",
      "\u001b[0;32m<ipython-input-59-4b430ca9b779>\u001b[0m in \u001b[0;36m<module>\u001b[0;34m()\u001b[0m\n\u001b[1;32m      6\u001b[0m \u001b[0mget_ipython\u001b[0m\u001b[0;34m(\u001b[0m\u001b[0;34m)\u001b[0m\u001b[0;34m.\u001b[0m\u001b[0mrun_line_magic\u001b[0m\u001b[0;34m(\u001b[0m\u001b[0;34m'matplotlib'\u001b[0m\u001b[0;34m,\u001b[0m \u001b[0;34m'inline'\u001b[0m\u001b[0;34m)\u001b[0m\u001b[0;34m\u001b[0m\u001b[0m\n\u001b[1;32m      7\u001b[0m \u001b[0mnow\u001b[0m \u001b[0;34m=\u001b[0m \u001b[0mdatetime\u001b[0m\u001b[0;34m.\u001b[0m\u001b[0mdatetime\u001b[0m\u001b[0;34m.\u001b[0m\u001b[0mnow\u001b[0m\u001b[0;34m(\u001b[0m\u001b[0;34m)\u001b[0m\u001b[0;34m\u001b[0m\u001b[0m\n\u001b[0;32m----> 8\u001b[0;31m \u001b[0mk_folds\u001b[0m\u001b[0;34m(\u001b[0m\u001b[0mX_train\u001b[0m\u001b[0;34m,\u001b[0m \u001b[0my_train\u001b[0m\u001b[0;34m,\u001b[0m \u001b[0mmodel\u001b[0m\u001b[0;34m)\u001b[0m\u001b[0;34m\u001b[0m\u001b[0m\n\u001b[0m\u001b[1;32m      9\u001b[0m \u001b[0mlater\u001b[0m \u001b[0;34m=\u001b[0m \u001b[0mdatetime\u001b[0m\u001b[0;34m.\u001b[0m\u001b[0mdatetime\u001b[0m\u001b[0;34m.\u001b[0m\u001b[0mnow\u001b[0m\u001b[0;34m(\u001b[0m\u001b[0;34m)\u001b[0m\u001b[0;34m\u001b[0m\u001b[0m\n\u001b[1;32m     10\u001b[0m \u001b[0melapsed\u001b[0m \u001b[0;34m=\u001b[0m \u001b[0mlater\u001b[0m\u001b[0;34m-\u001b[0m\u001b[0mnow\u001b[0m\u001b[0;34m\u001b[0m\u001b[0m\n",
      "\u001b[0;32m<ipython-input-57-e3097334f17a>\u001b[0m in \u001b[0;36mk_folds\u001b[0;34m(features_train, labels_train, model_obj, k, n_epochs)\u001b[0m\n\u001b[1;32m     17\u001b[0m         \u001b[0mmodel\u001b[0m \u001b[0;34m=\u001b[0m \u001b[0mmodel_obj\u001b[0m\u001b[0;34m\u001b[0m\u001b[0m\n\u001b[1;32m     18\u001b[0m         hist = model.fit(X_train, y_train, validation_data=(X_val, y_val), epochs=n_epochs, batch_size=32,\n\u001b[0;32m---> 19\u001b[0;31m                         verbose=0)\n\u001b[0m\u001b[1;32m     20\u001b[0m \u001b[0;34m\u001b[0m\u001b[0m\n\u001b[1;32m     21\u001b[0m         \u001b[0mvalidation\u001b[0m \u001b[0;34m=\u001b[0m \u001b[0mmodel\u001b[0m\u001b[0;34m.\u001b[0m\u001b[0mevaluate\u001b[0m\u001b[0;34m(\u001b[0m\u001b[0mX_val\u001b[0m\u001b[0;34m,\u001b[0m \u001b[0my_val\u001b[0m\u001b[0;34m)\u001b[0m\u001b[0;34m\u001b[0m\u001b[0m\n",
      "\u001b[0;32m/opt/conda/envs/learn-env/lib/python3.6/site-packages/keras/engine/training.py\u001b[0m in \u001b[0;36mfit\u001b[0;34m(self, x, y, batch_size, epochs, verbose, callbacks, validation_split, validation_data, shuffle, class_weight, sample_weight, initial_epoch, steps_per_epoch, validation_steps, **kwargs)\u001b[0m\n\u001b[1;32m    948\u001b[0m             \u001b[0msample_weight\u001b[0m\u001b[0;34m=\u001b[0m\u001b[0msample_weight\u001b[0m\u001b[0;34m,\u001b[0m\u001b[0;34m\u001b[0m\u001b[0m\n\u001b[1;32m    949\u001b[0m             \u001b[0mclass_weight\u001b[0m\u001b[0;34m=\u001b[0m\u001b[0mclass_weight\u001b[0m\u001b[0;34m,\u001b[0m\u001b[0;34m\u001b[0m\u001b[0m\n\u001b[0;32m--> 950\u001b[0;31m             batch_size=batch_size)\n\u001b[0m\u001b[1;32m    951\u001b[0m         \u001b[0;31m# Prepare validation data.\u001b[0m\u001b[0;34m\u001b[0m\u001b[0;34m\u001b[0m\u001b[0m\n\u001b[1;32m    952\u001b[0m         \u001b[0mdo_validation\u001b[0m \u001b[0;34m=\u001b[0m \u001b[0;32mFalse\u001b[0m\u001b[0;34m\u001b[0m\u001b[0m\n",
      "\u001b[0;32m/opt/conda/envs/learn-env/lib/python3.6/site-packages/keras/engine/training.py\u001b[0m in \u001b[0;36m_standardize_user_data\u001b[0;34m(self, x, y, sample_weight, class_weight, check_array_lengths, batch_size)\u001b[0m\n\u001b[1;32m    662\u001b[0m                                      \u001b[0;34m'either a single '\u001b[0m\u001b[0;34m\u001b[0m\u001b[0m\n\u001b[1;32m    663\u001b[0m                                      \u001b[0;34m'array or a list of arrays. '\u001b[0m\u001b[0;34m\u001b[0m\u001b[0m\n\u001b[0;32m--> 664\u001b[0;31m                                      'You passed: x=' + str(x))\n\u001b[0m\u001b[1;32m    665\u001b[0m                 \u001b[0mall_inputs\u001b[0m\u001b[0;34m.\u001b[0m\u001b[0mappend\u001b[0m\u001b[0;34m(\u001b[0m\u001b[0mx\u001b[0m\u001b[0;34m)\u001b[0m\u001b[0;34m\u001b[0m\u001b[0m\n\u001b[1;32m    666\u001b[0m \u001b[0;34m\u001b[0m\u001b[0m\n",
      "\u001b[0;31mValueError\u001b[0m: Please provide as model inputs either a single array or a list of arrays. You passed: x=       loan_amnt  funded_amnt_inv  installment  annual_inc  \\\n24018   0.112849         0.021326    -0.286460    0.189661   \n5523   -0.669251        -0.559691    -0.587677   -0.151157   \n33432  -0.831064        -0.727696    -0.806909   -0.306075   \n9059    0.921917         1.092359     1.162835    0.158677   \n11496  -0.426530        -0.307683    -0.255482   -0.076797   \n10788   1.326451         1.473870     1.569174    0.236136   \n11880   0.348827         0.497341     0.567523   -0.073699   \n28438  -0.831064        -0.727962    -0.902853   -0.161135   \n20978  -0.197294        -0.069676     0.033736    0.282611   \n18620  -1.168176        -1.077707    -1.139343    1.010722   \n12271  -1.019847        -0.923702    -1.017871   -0.615909   \n12785  -0.426530        -0.311184    -0.319302   -0.306075   \n37820  -0.156841        -0.916615    -0.008810   -0.528149   \n28404  -1.235598        -1.147709    -1.254026   -0.848285   \n27791  -0.561375        -0.451188    -0.691126   -0.662384   \n1519   -0.156841        -0.038175    -0.098157   -0.151157   \n3689   -0.898487        -0.797698    -0.892623   -0.597877   \n35674  -1.073785        -0.983204    -1.043495   -0.848285   \n25080   1.326451         1.508872     1.876989    0.011506   \n23028   0.247693         0.378337     0.607296    0.050173   \n36915  -0.831064        -1.031902    -0.753177    0.174169   \n35667   0.921917         0.724679     1.274697    0.778346   \n17281   0.257807         0.402838     0.385148   -0.538451   \n29615   0.517383         0.595344     0.689903    0.391053   \n30932  -0.534406        -0.437187    -0.444454   -0.460992   \n27396  -0.156841        -0.111678    -0.057714    0.545970   \n33601  -0.561375        -0.472188    -0.489916   -0.522959   \n34426   1.191606         0.528842     1.841135    0.313595   \n25266  -0.156841        -0.027675     0.071693   -0.259537   \n11148   3.214277         1.467554     1.400758    0.313595   \n...          ...              ...          ...         ...   \n29534  -1.235598        -1.147709    -1.225343   -0.783592   \n28513  -0.864775        -0.767819    -0.808439   -0.956727   \n17766   2.270364         2.263083     1.730467    3.179564   \n3252   -0.696220        -0.622693    -0.604409   -0.615909   \n8028   -0.264716        -0.139678    -0.529977   -0.359180   \n2428    1.488265         1.680377     2.006874    2.404978   \n4195    1.191606         1.337366     1.438524    1.243098   \n22461   0.112849        -0.561773    -0.473328   -0.151157   \n6648   -1.316505        -1.231711    -1.323486   -0.569434   \n30255  -0.291685        -0.175431    -0.207295    0.006486   \n41391  -1.235598        -1.249212    -1.257373    1.243098   \n6484    0.632001         0.756349     0.121266   -0.480811   \n26626  -0.561375        -0.447688    -0.517739    0.468450   \n17476  -1.090640        -0.997204    -1.109752   -0.522959   \n14944  -1.033331        -0.937703    -1.001474   -0.592672   \n31140   0.247693         0.236882     0.390837    0.009957   \n3325   -0.561375        -0.447688    -0.405015   -0.120174   \n35662  -1.100754        -1.007705    -1.094932   -0.584864   \n17747  -0.156841        -0.027675    -0.591549    0.236136   \n36249  -0.628797        -0.573692    -0.579407    0.344578   \n111    -0.021996         0.112329     0.061463   -0.374114   \n33710  -0.858033        -0.755697    -0.773685   -0.058207   \n23166   0.517383        -0.125678    -0.674681   -0.073699   \n96      1.191606         0.360837    -0.200937   -0.340156   \n22241   0.921917         1.063115     0.290447    1.258590   \n7763    0.382538         0.532342     0.482622    1.707850   \n15377  -1.168176        -1.077707    -1.175913   -0.430008   \n17730  -0.156841        -0.027675     0.014423   -0.383533   \n28030   1.865830         0.585861     0.897853    0.623429   \n15725  -0.156841        -0.038175    -0.062590    0.158677   \n\n       home_ownership_MORTGAGE  home_ownership_NONE  home_ownership_OTHER  \\\n24018                      1.0                  0.0                   0.0   \n5523                       0.0                  0.0                   0.0   \n33432                      1.0                  0.0                   0.0   \n9059                       0.0                  0.0                   0.0   \n11496                      0.0                  0.0                   0.0   \n10788                      1.0                  0.0                   0.0   \n11880                      1.0                  0.0                   0.0   \n28438                      0.0                  0.0                   0.0   \n20978                      0.0                  0.0                   0.0   \n18620                      1.0                  0.0                   0.0   \n12271                      0.0                  0.0                   0.0   \n12785                      0.0                  0.0                   0.0   \n37820                      0.0                  0.0                   0.0   \n28404                      0.0                  0.0                   0.0   \n27791                      0.0                  0.0                   0.0   \n1519                       1.0                  0.0                   0.0   \n3689                       1.0                  0.0                   0.0   \n35674                      0.0                  0.0                   0.0   \n25080                      0.0                  0.0                   0.0   \n23028                      0.0                  0.0                   0.0   \n36915                      1.0                  0.0                   0.0   \n35667                      1.0                  0.0                   0.0   \n17281                      1.0                  0.0                   0.0   \n29615                      1.0                  0.0                   0.0   \n30932                      0.0                  0.0                   0.0   \n27396                      1.0                  0.0                   0.0   \n33601                      0.0                  0.0                   0.0   \n34426                      1.0                  0.0                   0.0   \n25266                      1.0                  0.0                   0.0   \n11148                      1.0                  0.0                   0.0   \n...                        ...                  ...                   ...   \n29534                      0.0                  0.0                   0.0   \n28513                      0.0                  0.0                   0.0   \n17766                      0.0                  0.0                   0.0   \n3252                       0.0                  0.0                   0.0   \n8028                       0.0                  0.0                   0.0   \n2428                       0.0                  0.0                   0.0   \n4195                       1.0                  0.0                   0.0   \n22461                      0.0                  0.0                   0.0   \n6648                       0.0                  0.0                   0.0   \n30255                      0.0                  0.0                   0.0   \n41391                      1.0                  0.0                   0.0   \n6484                       1.0                  0.0                   0.0   \n26626                      1.0                  0.0                   0.0   \n17476                      0.0                  0.0                   0.0   \n14944                      0.0                  0.0                   0.0   \n31140                      1.0                  0.0                   0.0   \n3325                       0.0                  0.0                   0.0   \n35662                      0.0                  0.0                   0.0   \n17747                      1.0                  0.0                   0.0   \n36249                      0.0                  0.0                   0.0   \n111                        0.0                  0.0                   0.0   \n33710                      0.0                  0.0                   0.0   \n23166                      1.0                  0.0                   0.0   \n96                         1.0                  0.0                   0.0   \n22241                      1.0                  0.0                   0.0   \n7763                       0.0                  0.0                   0.0   \n15377                      0.0                  0.0                   0.0   \n17730                      0.0                  0.0                   0.0   \n28030                      1.0                  0.0                   0.0   \n15725                      1.0                  0.0                   0.0   \n\n       home_ownership_OWN  home_ownership_RENT  \\\n24018                 0.0                  0.0   \n5523                  0.0                  1.0   \n33432                 0.0                  0.0   \n9059                  0.0                  1.0   \n11496                 0.0                  1.0   \n10788                 0.0                  0.0   \n11880                 0.0                  0.0   \n28438                 0.0                  1.0   \n20978                 0.0                  1.0   \n18620                 0.0                  0.0   \n12271                 0.0                  1.0   \n12785                 0.0                  1.0   \n37820                 0.0                  1.0   \n28404                 0.0                  1.0   \n27791                 0.0                  1.0   \n1519                  0.0                  0.0   \n3689                  0.0                  0.0   \n35674                 0.0                  1.0   \n25080                 0.0                  1.0   \n23028                 0.0                  1.0   \n36915                 0.0                  0.0   \n35667                 0.0                  0.0   \n17281                 0.0                  0.0   \n29615                 0.0                  0.0   \n30932                 0.0                  1.0   \n27396                 0.0                  0.0   \n33601                 0.0                  1.0   \n34426                 0.0                  0.0   \n25266                 0.0                  0.0   \n11148                 0.0                  0.0   \n...                   ...                  ...   \n29534                 0.0                  1.0   \n28513                 0.0                  1.0   \n17766                 0.0                  1.0   \n3252                  0.0                  1.0   \n8028                  0.0                  1.0   \n2428                  0.0                  1.0   \n4195                  0.0                  0.0   \n22461                 1.0                  0.0   \n6648                  0.0                  1.0   \n30255                 0.0                  1.0   \n41391                 0.0                  0.0   \n6484                  0.0                  0.0   \n26626                 0.0                  0.0   \n17476                 0.0                  1.0   \n14944                 0.0                  1.0   \n31140                 0.0                  0.0   \n3325                  0.0                  1.0   \n35662                 0.0                  1.0   \n17747                 0.0                  0.0   \n36249                 0.0                  1.0   \n111                   1.0                  0.0   \n33710                 0.0                  1.0   \n23166                 0.0                  0.0   \n96                    0.0                  0.0   \n22241                 0.0                  0.0   \n7763                  1.0                  0.0   \n15377                 0.0                  1.0   \n17730                 0.0                  1.0   \n28030                 0.0                  0.0   \n15725                 0.0                  0.0   \n\n       verification_status_Not Verified  verification_status_Source Verified  \\\n24018                               0.0                                  1.0   \n5523                                1.0                                  0.0   \n33432                               1.0                                  0.0   \n9059                                0.0                                  1.0   \n11496                               0.0                                  0.0   \n10788                               0.0                                  1.0   \n11880                               0.0                                  0.0   \n28438                               1.0                                  0.0   \n20978                               0.0                                  1.0   \n18620                               0.0                                  1.0   \n12271                               0.0                                  1.0   \n12785                               0.0                                  0.0   \n37820                               1.0                                  0.0   \n28404                               0.0                                  1.0   \n27791                               0.0                                  1.0   \n1519                                1.0                                  0.0   \n3689                                0.0                                  1.0   \n35674                               1.0                                  0.0   \n25080                               0.0                                  0.0   \n23028                               0.0                                  0.0   \n36915                               1.0                                  0.0   \n35667                               1.0                                  0.0   \n17281                               1.0                                  0.0   \n29615                               1.0                                  0.0   \n30932                               1.0                                  0.0   \n27396                               1.0                                  0.0   \n33601                               1.0                                  0.0   \n34426                               0.0                                  0.0   \n25266                               1.0                                  0.0   \n11148                               0.0                                  1.0   \n...                                 ...                                  ...   \n29534                               1.0                                  0.0   \n28513                               1.0                                  0.0   \n17766                               0.0                                  0.0   \n3252                                0.0                                  1.0   \n8028                                0.0                                  1.0   \n2428                                0.0                                  1.0   \n4195                                0.0                                  1.0   \n22461                               0.0                                  1.0   \n6648                                0.0                                  1.0   \n30255                               1.0                                  0.0   \n41391                               1.0                                  0.0   \n6484                                0.0                                  0.0   \n26626                               0.0                                  0.0   \n17476                               1.0                                  0.0   \n14944                               0.0                                  1.0   \n31140                               1.0                                  0.0   \n3325                                0.0                                  0.0   \n35662                               1.0                                  0.0   \n17747                               1.0                                  0.0   \n36249                               0.0                                  1.0   \n111                                 0.0                                  1.0   \n33710                               1.0                                  0.0   \n23166                               0.0                                  1.0   \n96                                  0.0                                  0.0   \n22241                               1.0                                  0.0   \n7763                                0.0                                  1.0   \n15377                               0.0                                  1.0   \n17730                               1.0                                  0.0   \n28030                               0.0                                  0.0   \n15725                               0.0                                  0.0   \n\n       verification_status_Verified  \n24018                           0.0  \n5523                            0.0  \n33432                           0.0  \n9059                            0.0  \n11496                           1.0  \n10788                           0.0  \n11880                           1.0  \n28438                           0.0  \n20978                           0.0  \n18620                           0.0  \n12271                           0.0  \n12785                           1.0  \n37820                           0.0  \n28404                           0.0  \n27791                           0.0  \n1519                            0.0  \n3689                            0.0  \n35674                           0.0  \n25080                           1.0  \n23028                           1.0  \n36915                           0.0  \n35667                           0.0  \n17281                           0.0  \n29615                           0.0  \n30932                           0.0  \n27396                           0.0  \n33601                           0.0  \n34426                           1.0  \n25266                           0.0  \n11148                           0.0  \n...                             ...  \n29534                           0.0  \n28513                           0.0  \n17766                           1.0  \n3252                            0.0  \n8028                            0.0  \n2428                            0.0  \n4195                            0.0  \n22461                           0.0  \n6648                            0.0  \n30255                           0.0  \n41391                           0.0  \n6484                            1.0  \n26626                           1.0  \n17476                           0.0  \n14944                           0.0  \n31140                           0.0  \n3325                            1.0  \n35662                           0.0  \n17747                           0.0  \n36249                           0.0  \n111                             0.0  \n33710                           0.0  \n23166                           0.0  \n96                              1.0  \n22241                           0.0  \n7763                            0.0  \n15377                           0.0  \n17730                           0.0  \n28030                           1.0  \n15725                           1.0  \n\n[33528 rows x 12 columns]"
     ]
    },
    {
     "data": {
      "image/png": "[encoded data removed]",
      "text/plain": [
       "<Figure size 864x576 with 10 Axes>"
      ]
     },
     "metadata": {
      "needs_background": "light"
     },
     "output_type": "display_data"
    }
   ],
   "source": [
    "#Your code here; use your k-folds function to evaluate the baseline model.\n",
    "import time\n",
    "import datetime\n",
    "import seaborn as sns\n",
    "import matplotlib.pyplot as plt\n",
    "%matplotlib inline\n",
    "now = datetime.datetime.now()\n",
    "k_folds(X_train, y_train, model)\n",
    "later = datetime.datetime.now()\n",
    "elapsed = later-now\n",
    "print('Time Elapsed:', elapsed)"
   ]
  },
  {
   "cell_type": "markdown",
   "metadata": {},
   "source": [
    "## Intentionally Overfitting a Model\n",
    "\n",
    "Now that you've developed a baseline model, its time to intentionally overfit a model. To overfit a model, you can:\n",
    "* Add layers\n",
    "* Make the layers bigger\n",
    "* Increase the number of training epochs\n",
    "\n",
    "Again, be careful here. Think about the limitations of your resources, both in terms of your computers specs and how much time and patience you have to let the process run. Also keep in mind that you will then be regularizing these overfit models, meaning another round of experiments and more time and resources.  \n",
    "\n",
    "For example, here are some timing notes on potential experiments run on a Macbook Pro 3.1 GHz Intel Core i5 with 16gb of RAM:\n",
    "\n",
    "* Using our 10 fold cross validation methodology, a 5-layer neural network with 10 units per hidden layer and 100 epochs took approximately 15 minutes to train and validate  \n",
    "\n",
    "* Using our 10 fold cross validation methodology, a 5-layer neural network with 25 units per hidden layer and 100 epochs took approximately 25 minutes to train and validate  \n",
    "\n",
    "* Using our 10 fold cross validation methodology, a 5-layer neural network with 10 units per hidden layer and 250 epochs took approximately 45 minutes to train and validate\n"
   ]
  },
  {
   "cell_type": "code",
   "execution_count": null,
   "metadata": {},
   "outputs": [],
   "source": [
    "#Your code here; try some methods to overfit your network"
   ]
  },
  {
   "cell_type": "code",
   "execution_count": null,
   "metadata": {},
   "outputs": [],
   "source": [
    "#Your code here; try some methods to overfit your network"
   ]
  },
  {
   "cell_type": "code",
   "execution_count": null,
   "metadata": {},
   "outputs": [],
   "source": [
    "#Your code here; try some methods to overfit your network"
   ]
  },
  {
   "cell_type": "markdown",
   "metadata": {},
   "source": [
    "## Regularizing the Model to Achieve Balance  \n",
    "\n",
    "Now that you have a powerful model (albeit an overfit one), we can now increase the generalization of the model by using some of the regularization techniques we discussed. Some options you have to try include:  \n",
    "* Adding dropout\n",
    "* Adding L1/L2 regularization\n",
    "* Altering the layer architecture (add or remove layers similar to above)  \n",
    "\n",
    "This process will be constrained by time and resources. Be sure to test at least 2 different methodologies, such as dropout and L2 regularization. If you have the time, feel free to continue experimenting.\n",
    "\n",
    "Notes: "
   ]
  },
  {
   "cell_type": "code",
   "execution_count": null,
   "metadata": {},
   "outputs": [],
   "source": [
    "#Your code here; try some regularization or other methods to tune your network"
   ]
  },
  {
   "cell_type": "code",
   "execution_count": null,
   "metadata": {},
   "outputs": [],
   "source": [
    "#Your code here; try some regularization or other methods to tune your network"
   ]
  },
  {
   "cell_type": "code",
   "execution_count": null,
   "metadata": {},
   "outputs": [],
   "source": [
    "#Your code here; try some regularization or other methods to tune your network"
   ]
  },
  {
   "cell_type": "code",
   "execution_count": null,
   "metadata": {},
   "outputs": [],
   "source": [
    "#Your code here; try some regularization or other methods to tune your network"
   ]
  },
  {
   "cell_type": "markdown",
   "metadata": {},
   "source": [
    "## Final Evaluation\n",
    "\n",
    "Now that you have selected a network architecture, tested various regularization procedures and tuned hyperparameters via a validation methodology, it is time to evaluate your finalized model once and for all. Fit the model using all of the training and validation data using the architecture and hyperparameters that were most effective in your expirements above. Afterwards, measure the overall performance on the hold-out test data which has been left untouched (and hasn't leaked any data into the modelling process)!"
   ]
  },
  {
   "cell_type": "code",
   "execution_count": null,
   "metadata": {},
   "outputs": [],
   "source": [
    "#Your code here; final model training on entire training set followed by evaluation on hold-out data"
   ]
  },
  {
   "cell_type": "markdown",
   "metadata": {},
   "source": [
    "## Additional Resources"
   ]
  },
  {
   "cell_type": "markdown",
   "metadata": {},
   "source": [
    "https://machinelearningmastery.com/dropout-regularization-deep-learning-models-keras/\n",
    "\n",
    "https://machinelearningmastery.com/grid-search-hyperparameters-deep-learning-models-python-keras/\n",
    "\n",
    "https://machinelearningmastery.com/regression-tutorial-keras-deep-learning-library-python/\n",
    "\n",
    "https://stackoverflow.com/questions/37232782/nan-loss-when-training-regression-network\n",
    "https://www.springboard.com/blog/free-public-data-sets-data-science-project/"
   ]
  },
  {
   "cell_type": "markdown",
   "metadata": {},
   "source": [
    "## Summary\n",
    "\n",
    "In this lab, we investigated some data from *The Lending Club* in a complete data science pipeline regarding neural networks. We began with reserving a hold-out set for testing which never was touched during the modeling phase. From there, we implemented a k-fold cross validation methodology in order to assess an initial baseline model and various regularization methods. From here, we'll begin to investigate other neural network architectures such as CNNs."
   ]
  }
 ],
 "metadata": {
  "kernelspec": {
   "display_name": "Python 3",
   "language": "python",
   "name": "python3"
  },
  "language_info": {
   "codemirror_mode": {
    "name": "ipython",
    "version": 3
   },
   "file_extension": ".py",
   "mimetype": "text/x-python",
   "name": "python",
   "nbconvert_exporter": "python",
   "pygments_lexer": "ipython3",
   "version": "3.6.6"
  }
 },
 "nbformat": 4,
 "nbformat_minor": 2
}
