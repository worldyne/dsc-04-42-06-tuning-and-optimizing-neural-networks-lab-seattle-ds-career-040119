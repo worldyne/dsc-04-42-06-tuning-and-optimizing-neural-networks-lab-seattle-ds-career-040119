{
 "cells": [
  {
   "cell_type": "markdown",
   "metadata": {},
   "source": [
    "# Tuning and Optimizing Neural Networks - Lab\n",
    "\n",
    "## Introduction\n",
    "\n",
    "Now that we've discussed some regularization, initialization and optimization techniques, its time to synthesize those concepts into a cohesive modelling pipeline.  \n",
    "\n",
    "With this pipeline, yoiu will not only fit an initial model but will also attempt to set various hyperparameters for regularization techniques. Your final model selection will pertain to the test metrics across these models. This will more naturally simulate a problem you might be faced with in practice, and the various modelling decisions you are apt to encounter along the way.  \n",
    "\n",
    "Recall that our end objective is to achieve a balance between overfitting and underfitting. We've discussed the bias variance tradeoff, and the role of regularization in order to reduce overfitting on training data and improving generalization to new cases. Common frameworks for such a procedure include train/validate/test methodology when data is plentiful, and K-folds cross-validation for smaller, more limited datasets. In this lab, you'll perform the latter, as the dataset in question is fairly limited. \n",
    "\n",
    "## Objectives\n",
    "\n",
    "You will be able to:\n",
    "\n",
    "* Implement a K-folds cross validation modelling pipeline\n",
    "* Apply normalization as a preprocessing technique\n",
    "* Apply regularization techniques to improve your model's generalization\n",
    "* Choose an appropriate optimization strategy "
   ]
  },
  {
   "cell_type": "markdown",
   "metadata": {},
   "source": [
    "## Loading the Data"
   ]
  },
  {
   "cell_type": "code",
   "execution_count": 47,
   "metadata": {},
   "outputs": [],
   "source": [
    "#Your code here; load and preview the dataset\n",
    "import pandas as pd\n",
    "df = pd.read_csv('loan_final.csv')\n",
    "df.head().T\n",
    "df.dropna(inplace=True)"
   ]
  },
  {
   "cell_type": "markdown",
   "metadata": {},
   "source": [
    "## Defining the Problem\n",
    "\n",
    "Set up the problem by defining X and Y. \n",
    "\n",
    "For this problem use the following variables for X:\n",
    "* loan_amnt\n",
    "* home_ownership\n",
    "* funded_amnt_inv\n",
    "* verification_status\n",
    "* emp_length\n",
    "* installment\n",
    "* annual_inc\n",
    "\n",
    "Be sure to use dummy variables for categorical variables and to normalize numerical quanitities. Be sure to also remove any rows with null data.  \n",
    "\n",
    "For Y, we are looking to build a model to predict the total payment received for a loan."
   ]
  },
  {
   "cell_type": "code",
   "execution_count": 55,
   "metadata": {},
   "outputs": [],
   "source": [
    "# Your code here; appropriately define X and Y using dummy variables and normalization for preprocessing.\n",
    "from sklearn.preprocessing import OneHotEncoder, StandardScaler\n",
    "import numpy as np\n",
    "\n",
    "X = df[['loan_amnt', 'home_ownership', 'funded_amnt_inv', 'verification_status',\n",
    "       'emp_length', 'installment', 'annual_inc']]\n",
    "ohe = OneHotEncoder()\n",
    "ss = StandardScaler()\n",
    "\n",
    "enc_ho = X['home_ownership']\n",
    "enc_vs = X['verification_status']\n",
    "enc_emp = X['emp_length']\n",
    "enc_ho = enc_ho.values.reshape(-1,1)\n",
    "enc_vs = enc_vs.values.reshape(-1,1)\n",
    "enc_emp = enc_emp.values.reshape(-1, 1)\n",
    "ohe.fit(enc_ho)\n",
    "enc_ho = pd.DataFrame(ohe.transform(enc_ho).toarray(), columns=ohe.get_feature_names(['home_ownership']))\n",
    "ohe.fit(enc_vs)\n",
    "enc_vs = pd.DataFrame(ohe.transform(enc_vs).toarray(), columns=ohe.get_feature_names(['verification_status']))\n",
    "ohe.fit(enc_emp)\n",
    "enc_emp = pd.DataFrame(ohe.transform(enc_emp).toarray(), columns=ohe.get_feature_names(['emp_length']))\n",
    "\n",
    "X_s = X.drop(['home_ownership', 'verification_status', 'emp_length'],axis=1)\n",
    "X_s = pd.DataFrame(ss.fit_transform(X_s), columns=X_s.columns)\n",
    "\n",
    "X = pd.concat([X_s, enc_ho, enc_vs], axis=1)\n",
    "\n",
    "y = pd.DataFrame(ss.fit_transform(df['total_pymnt'].values.reshape(-1, 1)))\n",
    "\n"
   ]
  },
  {
   "cell_type": "markdown",
   "metadata": {},
   "source": [
    "## Generating a Hold Out Test Set\n",
    "\n",
    "While we will be using K-fold cross validation to select an optimal model, we still want a final hold out test set that is completely independent of any modelling decisions. As such, pull out a sample of 10% of the total available data. For consistency of results, use random seed 123. "
   ]
  },
  {
   "cell_type": "code",
   "execution_count": 56,
   "metadata": {},
   "outputs": [],
   "source": [
    "# Your code here; generate a hold out test set for final model evaluation. Use random seed 123.\n",
    "from sklearn.model_selection import train_test_split\n",
    "X_train, X_test, y_train, y_test = train_test_split(X, y, test_size=.1, random_state=123)"
   ]
  },
  {
   "cell_type": "markdown",
   "metadata": {},
   "source": [
    "## Defining a K-fold Cross Validation Methodology\n",
    "\n",
    "Now that your have a complete holdout test set, write a function that takes in the remaining data and performs k-folds cross validation given a model object. Be sure your function returns performance metrics regarding the training and validation sets."
   ]
  },
  {
   "cell_type": "code",
   "execution_count": 69,
   "metadata": {},
   "outputs": [],
   "source": [
    "#Your code here; define a function to evaluate a model object using K folds cross validation.\n",
    "from sklearn.model_selection import KFold\n",
    "\n",
    "def k_folds(features_train, labels_train, model_obj, k=10, n_epochs=100):\n",
    "    colors = sns.color_palette(\"Set2\")\n",
    "    kf = KFold(n_splits=10,shuffle=True)\n",
    "    \n",
    "    fig, axes = plt.subplots(2, 5, figsize=(12,8))\n",
    "    validation_scores = []\n",
    "    for i, (train_index, test_index) in enumerate(kf.split(features_train)):\n",
    "        row = i//5\n",
    "        col = i%5\n",
    "        \n",
    "        X_train, X_val = features_train.iloc[train_index], features_train.iloc[test_index]\n",
    "        y_train, y_val = labels_train.iloc[train_index], labels_train.iloc[test_index]\n",
    "        \n",
    "        model = model_obj\n",
    "        hist = model.fit(np.asarray(X_train), np.asarray(y_train), validation_data=(X_val, y_val), epochs=n_epochs, batch_size=32,\n",
    "                        verbose=0)\n",
    "        \n",
    "        validation = model.evaluate(X_val, y_val)\n",
    "        validation_scores.append(validation)\n",
    "        ax = axes[row,col]\n",
    "        k = 'val_loss'\n",
    "        d = hist.history[k]\n",
    "        ax.plot(d, label=k, color=colors[1])\n",
    "        ax.set_title(f'Fold {i+1} Validation')\n",
    "    plt.subplots_adjust(left=None, right=None, bottom=None, top=None, wspace=.5, hspace=None)\n",
    "    plt.legend(bbox_to_anchor=(1, 1))\n",
    "    \n",
    "    validation_score = np.mean(validation_scores)\n",
    "    print(f'Mean Validation Score: {validation_score}')\n",
    "    print(f'STD of Validation Scores: {np.std(validation_scores)}')\n",
    "    return validation_score"
   ]
  },
  {
   "cell_type": "markdown",
   "metadata": {},
   "source": [
    "## Building a Baseline Model\n",
    "\n",
    "Here, it is also important to define your evaluation metric that you will look to optimize while tuning the model.   \n",
    "\n",
    "In general, model training to optimize this metric may consist of using a validation and test set if data is plentiful, or k-folds cross-validation if data is limited. We set up a k-folds cross-validation for this task since the dataset is not overly large.  \n",
    "\n",
    "Build an initial sequential model with 2 hidden relu layers. The first should have 7 hidden units, and the second 10 hidden units. Finally, add a third layer with a linear activation function to output our predictions for the total loan payment. "
   ]
  },
  {
   "cell_type": "code",
   "execution_count": 70,
   "metadata": {},
   "outputs": [],
   "source": [
    "#Your code here; define and compile an initial model as described\n",
    "from keras import Sequential\n",
    "from keras.layers import Dense\n",
    "\n",
    "inputs = X_train.shape[1]\n",
    "model = Sequential()\n",
    "model.add(Dense(inputs, activation='relu'))\n",
    "model.add(Dense(7, activation='relu'))\n",
    "model.add(Dense(10, activation='relu'))\n",
    "model.add(Dense(1, activation='linear'))\n",
    "model.compile(optimizer='adam', loss='mse', metrics=['acc'])"
   ]
  },
  {
   "cell_type": "markdown",
   "metadata": {},
   "source": [
    "## Evaluating the Baseline Model with K-Folds Cross Validation\n",
    "\n",
    "Use your k-folds function to evaluate the baseline model.  \n",
    "\n",
    "Note: This code block is likely to take 10-20 minutes to run depending on the specs on your computer.\n",
    "Because of time dependencies, it can be interesting to begin timing these operations for future reference.\n",
    "\n",
    "Here's a simple little recipe to achieve this:\n",
    "```\n",
    "import time\n",
    "import datetime\n",
    "\n",
    "now = datetime.datetime.now()\n",
    "later = datetime.datetime.now()\n",
    "elapsed = later - now\n",
    "print('Time Elapsed:', elapsed)\n",
    "```"
   ]
  },
  {
   "cell_type": "code",
   "execution_count": null,
   "metadata": {},
   "outputs": [
    {
     "name": "stdout",
     "output_type": "stream",
     "text": [
      "3726/3726 [==============================] - 0s 20us/step\n",
      "3726/3726 [==============================] - 0s 20us/step\n",
      "3726/3726 [==============================] - 0s 20us/step\n",
      "3726/3726 [==============================] - 0s 21us/step\n",
      "3725/3725 [==============================] - 0s 21us/step\n",
      "3725/3725 [==============================] - 0s 22us/step\n",
      "3725/3725 [==============================] - 0s 22us/step\n",
      "3725/3725 [==============================] - 0s 21us/step\n"
     ]
    }
   ],
   "source": [
    "#Your code here; use your k-folds function to evaluate the baseline model.\n",
    "import time\n",
    "import datetime\n",
    "import seaborn as sns\n",
    "import matplotlib.pyplot as plt\n",
    "%matplotlib inline\n",
    "now = datetime.datetime.now()\n",
    "k_folds(X_train, y_train, model)\n",
    "later = datetime.datetime.now()\n",
    "elapsed = later-now\n",
    "print('Time Elapsed:', elapsed)"
   ]
  },
  {
   "cell_type": "markdown",
   "metadata": {},
   "source": [
    "## Intentionally Overfitting a Model\n",
    "\n",
    "Now that you've developed a baseline model, its time to intentionally overfit a model. To overfit a model, you can:\n",
    "* Add layers\n",
    "* Make the layers bigger\n",
    "* Increase the number of training epochs\n",
    "\n",
    "Again, be careful here. Think about the limitations of your resources, both in terms of your computers specs and how much time and patience you have to let the process run. Also keep in mind that you will then be regularizing these overfit models, meaning another round of experiments and more time and resources.  \n",
    "\n",
    "For example, here are some timing notes on potential experiments run on a Macbook Pro 3.1 GHz Intel Core i5 with 16gb of RAM:\n",
    "\n",
    "* Using our 10 fold cross validation methodology, a 5-layer neural network with 10 units per hidden layer and 100 epochs took approximately 15 minutes to train and validate  \n",
    "\n",
    "* Using our 10 fold cross validation methodology, a 5-layer neural network with 25 units per hidden layer and 100 epochs took approximately 25 minutes to train and validate  \n",
    "\n",
    "* Using our 10 fold cross validation methodology, a 5-layer neural network with 10 units per hidden layer and 250 epochs took approximately 45 minutes to train and validate\n"
   ]
  },
  {
   "cell_type": "code",
   "execution_count": null,
   "metadata": {},
   "outputs": [],
   "source": [
    "#Your code here; try some methods to overfit your network"
   ]
  },
  {
   "cell_type": "code",
   "execution_count": null,
   "metadata": {},
   "outputs": [],
   "source": [
    "#Your code here; try some methods to overfit your network"
   ]
  },
  {
   "cell_type": "code",
   "execution_count": null,
   "metadata": {},
   "outputs": [],
   "source": [
    "#Your code here; try some methods to overfit your network"
   ]
  },
  {
   "cell_type": "markdown",
   "metadata": {},
   "source": [
    "## Regularizing the Model to Achieve Balance  \n",
    "\n",
    "Now that you have a powerful model (albeit an overfit one), we can now increase the generalization of the model by using some of the regularization techniques we discussed. Some options you have to try include:  \n",
    "* Adding dropout\n",
    "* Adding L1/L2 regularization\n",
    "* Altering the layer architecture (add or remove layers similar to above)  \n",
    "\n",
    "This process will be constrained by time and resources. Be sure to test at least 2 different methodologies, such as dropout and L2 regularization. If you have the time, feel free to continue experimenting.\n",
    "\n",
    "Notes: "
   ]
  },
  {
   "cell_type": "code",
   "execution_count": null,
   "metadata": {},
   "outputs": [],
   "source": [
    "#Your code here; try some regularization or other methods to tune your network"
   ]
  },
  {
   "cell_type": "code",
   "execution_count": null,
   "metadata": {},
   "outputs": [],
   "source": [
    "#Your code here; try some regularization or other methods to tune your network"
   ]
  },
  {
   "cell_type": "code",
   "execution_count": null,
   "metadata": {},
   "outputs": [],
   "source": [
    "#Your code here; try some regularization or other methods to tune your network"
   ]
  },
  {
   "cell_type": "code",
   "execution_count": null,
   "metadata": {},
   "outputs": [],
   "source": [
    "#Your code here; try some regularization or other methods to tune your network"
   ]
  },
  {
   "cell_type": "markdown",
   "metadata": {},
   "source": [
    "## Final Evaluation\n",
    "\n",
    "Now that you have selected a network architecture, tested various regularization procedures and tuned hyperparameters via a validation methodology, it is time to evaluate your finalized model once and for all. Fit the model using all of the training and validation data using the architecture and hyperparameters that were most effective in your expirements above. Afterwards, measure the overall performance on the hold-out test data which has been left untouched (and hasn't leaked any data into the modelling process)!"
   ]
  },
  {
   "cell_type": "code",
   "execution_count": null,
   "metadata": {},
   "outputs": [],
   "source": [
    "#Your code here; final model training on entire training set followed by evaluation on hold-out data"
   ]
  },
  {
   "cell_type": "markdown",
   "metadata": {},
   "source": [
    "## Additional Resources"
   ]
  },
  {
   "cell_type": "markdown",
   "metadata": {},
   "source": [
    "https://machinelearningmastery.com/dropout-regularization-deep-learning-models-keras/\n",
    "\n",
    "https://machinelearningmastery.com/grid-search-hyperparameters-deep-learning-models-python-keras/\n",
    "\n",
    "https://machinelearningmastery.com/regression-tutorial-keras-deep-learning-library-python/\n",
    "\n",
    "https://stackoverflow.com/questions/37232782/nan-loss-when-training-regression-network\n",
    "https://www.springboard.com/blog/free-public-data-sets-data-science-project/"
   ]
  },
  {
   "cell_type": "markdown",
   "metadata": {},
   "source": [
    "## Summary\n",
    "\n",
    "In this lab, we investigated some data from *The Lending Club* in a complete data science pipeline regarding neural networks. We began with reserving a hold-out set for testing which never was touched during the modeling phase. From there, we implemented a k-fold cross validation methodology in order to assess an initial baseline model and various regularization methods. From here, we'll begin to investigate other neural network architectures such as CNNs."
   ]
  }
 ],
 "metadata": {
  "kernelspec": {
   "display_name": "Python 3",
   "language": "python",
   "name": "python3"
  },
  "language_info": {
   "codemirror_mode": {
    "name": "ipython",
    "version": 3
   },
   "file_extension": ".py",
   "mimetype": "text/x-python",
   "name": "python",
   "nbconvert_exporter": "python",
   "pygments_lexer": "ipython3",
   "version": "3.6.6"
  }
 },
 "nbformat": 4,
 "nbformat_minor": 2
}
