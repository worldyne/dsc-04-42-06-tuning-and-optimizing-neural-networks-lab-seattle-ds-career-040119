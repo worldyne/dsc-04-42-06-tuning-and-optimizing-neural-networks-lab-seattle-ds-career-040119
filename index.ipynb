{
 "cells": [
  {
   "cell_type": "markdown",
   "metadata": {},
   "source": [
    "# Tuning and Optimizing Neural Networks - Lab\n",
    "\n",
    "## Introduction\n",
    "\n",
    "Now that we've discussed some regularization, initialization and optimization techniques, its time to synthesize those concepts into a cohesive modelling pipeline.  \n",
    "\n",
    "With this pipeline, yoiu will not only fit an initial model but will also attempt to set various hyperparameters for regularization techniques. Your final model selection will pertain to the test metrics across these models. This will more naturally simulate a problem you might be faced with in practice, and the various modelling decisions you are apt to encounter along the way.  \n",
    "\n",
    "Recall that our end objective is to achieve a balance between overfitting and underfitting. We've discussed the bias variance tradeoff, and the role of regularization in order to reduce overfitting on training data and improving generalization to new cases. Common frameworks for such a procedure include train/validate/test methodology when data is plentiful, and K-folds cross-validation for smaller, more limited datasets. In this lab, you'll perform the latter, as the dataset in question is fairly limited. \n",
    "\n",
    "## Objectives\n",
    "\n",
    "You will be able to:\n",
    "\n",
    "* Implement a K-folds cross validation modelling pipeline\n",
    "* Apply normalization as a preprocessing technique\n",
    "* Apply regularization techniques to improve your model's generalization\n",
    "* Choose an appropriate optimization strategy "
   ]
  },
  {
   "cell_type": "markdown",
   "metadata": {},
   "source": [
    "## Loading the Data"
   ]
  },
  {
   "cell_type": "code",
   "execution_count": null,
   "metadata": {},
   "outputs": [],
   "source": [
    "#Your code here; load and preview the dataset\n",
    "import pandas as pd\n",
    "df = pd.read_csv('loan_final.csv')\n",
    "df.head().T\n",
    "df.dropna(inplace=True)"
   ]
  },
  {
   "cell_type": "markdown",
   "metadata": {},
   "source": [
    "## Defining the Problem\n",
    "\n",
    "Set up the problem by defining X and Y. \n",
    "\n",
    "For this problem use the following variables for X:\n",
    "* loan_amnt\n",
    "* home_ownership\n",
    "* funded_amnt_inv\n",
    "* verification_status\n",
    "* emp_length\n",
    "* installment\n",
    "* annual_inc\n",
    "\n",
    "Be sure to use dummy variables for categorical variables and to normalize numerical quanitities. Be sure to also remove any rows with null data.  \n",
    "\n",
    "For Y, we are looking to build a model to predict the total payment received for a loan."
   ]
  },
  {
   "cell_type": "code",
   "execution_count": 46,
   "metadata": {},
   "outputs": [
    {
     "ename": "ValueError",
     "evalue": "Input contains NaN",
     "output_type": "error",
     "traceback": [
      "\u001b[0;31m\u001b[0m",
      "\u001b[0;31mValueError\u001b[0mTraceback (most recent call last)",
      "\u001b[0;32m<ipython-input-46-0e038273f836>\u001b[0m in \u001b[0;36m<module>\u001b[0;34m()\u001b[0m\n\u001b[1;32m     14\u001b[0m \u001b[0menc_vs\u001b[0m \u001b[0;34m=\u001b[0m \u001b[0menc_vs\u001b[0m\u001b[0;34m.\u001b[0m\u001b[0mvalues\u001b[0m\u001b[0;34m.\u001b[0m\u001b[0mreshape\u001b[0m\u001b[0;34m(\u001b[0m\u001b[0;34m-\u001b[0m\u001b[0;36m1\u001b[0m\u001b[0;34m,\u001b[0m\u001b[0;36m1\u001b[0m\u001b[0;34m)\u001b[0m\u001b[0;34m\u001b[0m\u001b[0m\n\u001b[1;32m     15\u001b[0m \u001b[0menc_emp\u001b[0m \u001b[0;34m=\u001b[0m \u001b[0menc_emp\u001b[0m\u001b[0;34m.\u001b[0m\u001b[0mvalues\u001b[0m\u001b[0;34m.\u001b[0m\u001b[0mreshape\u001b[0m\u001b[0;34m(\u001b[0m\u001b[0;34m-\u001b[0m\u001b[0;36m1\u001b[0m\u001b[0;34m,\u001b[0m \u001b[0;36m1\u001b[0m\u001b[0;34m)\u001b[0m\u001b[0;34m\u001b[0m\u001b[0m\n\u001b[0;32m---> 16\u001b[0;31m \u001b[0mohe\u001b[0m\u001b[0;34m.\u001b[0m\u001b[0mfit\u001b[0m\u001b[0;34m(\u001b[0m\u001b[0menc_ho\u001b[0m\u001b[0;34m)\u001b[0m\u001b[0;34m\u001b[0m\u001b[0m\n\u001b[0m\u001b[1;32m     17\u001b[0m \u001b[0menc_ho\u001b[0m \u001b[0;34m=\u001b[0m \u001b[0mpd\u001b[0m\u001b[0;34m.\u001b[0m\u001b[0mDataFrame\u001b[0m\u001b[0;34m(\u001b[0m\u001b[0mohe\u001b[0m\u001b[0;34m.\u001b[0m\u001b[0mtransform\u001b[0m\u001b[0;34m(\u001b[0m\u001b[0menc_ho\u001b[0m\u001b[0;34m)\u001b[0m\u001b[0;34m.\u001b[0m\u001b[0mtoarray\u001b[0m\u001b[0;34m(\u001b[0m\u001b[0;34m)\u001b[0m\u001b[0;34m,\u001b[0m \u001b[0mcolumns\u001b[0m\u001b[0;34m=\u001b[0m\u001b[0mohe\u001b[0m\u001b[0;34m.\u001b[0m\u001b[0mget_feature_names\u001b[0m\u001b[0;34m(\u001b[0m\u001b[0;34m[\u001b[0m\u001b[0;34m'home_ownership'\u001b[0m\u001b[0;34m]\u001b[0m\u001b[0;34m)\u001b[0m\u001b[0;34m)\u001b[0m\u001b[0;34m\u001b[0m\u001b[0m\n\u001b[1;32m     18\u001b[0m \u001b[0mohe\u001b[0m\u001b[0;34m.\u001b[0m\u001b[0mfit\u001b[0m\u001b[0;34m(\u001b[0m\u001b[0menc_vs\u001b[0m\u001b[0;34m)\u001b[0m\u001b[0;34m\u001b[0m\u001b[0m\n",
      "\u001b[0;32m/opt/conda/envs/learn-env/lib/python3.6/site-packages/sklearn/preprocessing/_encoders.py\u001b[0m in \u001b[0;36mfit\u001b[0;34m(self, X, y)\u001b[0m\n\u001b[1;32m    425\u001b[0m             \u001b[0;32mreturn\u001b[0m \u001b[0mself\u001b[0m\u001b[0;34m\u001b[0m\u001b[0m\n\u001b[1;32m    426\u001b[0m         \u001b[0;32melse\u001b[0m\u001b[0;34m:\u001b[0m\u001b[0;34m\u001b[0m\u001b[0m\n\u001b[0;32m--> 427\u001b[0;31m             \u001b[0mself\u001b[0m\u001b[0;34m.\u001b[0m\u001b[0m_fit\u001b[0m\u001b[0;34m(\u001b[0m\u001b[0mX\u001b[0m\u001b[0;34m,\u001b[0m \u001b[0mhandle_unknown\u001b[0m\u001b[0;34m=\u001b[0m\u001b[0mself\u001b[0m\u001b[0;34m.\u001b[0m\u001b[0mhandle_unknown\u001b[0m\u001b[0;34m)\u001b[0m\u001b[0;34m\u001b[0m\u001b[0m\n\u001b[0m\u001b[1;32m    428\u001b[0m             \u001b[0;32mreturn\u001b[0m \u001b[0mself\u001b[0m\u001b[0;34m\u001b[0m\u001b[0m\n\u001b[1;32m    429\u001b[0m \u001b[0;34m\u001b[0m\u001b[0m\n",
      "\u001b[0;32m/opt/conda/envs/learn-env/lib/python3.6/site-packages/sklearn/preprocessing/_encoders.py\u001b[0m in \u001b[0;36m_fit\u001b[0;34m(self, X, handle_unknown)\u001b[0m\n\u001b[1;32m     59\u001b[0m \u001b[0;34m\u001b[0m\u001b[0m\n\u001b[1;32m     60\u001b[0m     \u001b[0;32mdef\u001b[0m \u001b[0m_fit\u001b[0m\u001b[0;34m(\u001b[0m\u001b[0mself\u001b[0m\u001b[0;34m,\u001b[0m \u001b[0mX\u001b[0m\u001b[0;34m,\u001b[0m \u001b[0mhandle_unknown\u001b[0m\u001b[0;34m=\u001b[0m\u001b[0;34m'error'\u001b[0m\u001b[0;34m)\u001b[0m\u001b[0;34m:\u001b[0m\u001b[0;34m\u001b[0m\u001b[0m\n\u001b[0;32m---> 61\u001b[0;31m         \u001b[0mX\u001b[0m \u001b[0;34m=\u001b[0m \u001b[0mself\u001b[0m\u001b[0;34m.\u001b[0m\u001b[0m_check_X\u001b[0m\u001b[0;34m(\u001b[0m\u001b[0mX\u001b[0m\u001b[0;34m)\u001b[0m\u001b[0;34m\u001b[0m\u001b[0m\n\u001b[0m\u001b[1;32m     62\u001b[0m \u001b[0;34m\u001b[0m\u001b[0m\n\u001b[1;32m     63\u001b[0m         \u001b[0mn_samples\u001b[0m\u001b[0;34m,\u001b[0m \u001b[0mn_features\u001b[0m \u001b[0;34m=\u001b[0m \u001b[0mX\u001b[0m\u001b[0;34m.\u001b[0m\u001b[0mshape\u001b[0m\u001b[0;34m\u001b[0m\u001b[0m\n",
      "\u001b[0;32m/opt/conda/envs/learn-env/lib/python3.6/site-packages/sklearn/preprocessing/_encoders.py\u001b[0m in \u001b[0;36m_check_X\u001b[0;34m(self, X)\u001b[0m\n\u001b[1;32m     54\u001b[0m             \u001b[0;32mif\u001b[0m \u001b[0;32mnot\u001b[0m \u001b[0m_get_config\u001b[0m\u001b[0;34m(\u001b[0m\u001b[0;34m)\u001b[0m\u001b[0;34m[\u001b[0m\u001b[0;34m'assume_finite'\u001b[0m\u001b[0;34m]\u001b[0m\u001b[0;34m:\u001b[0m\u001b[0;34m\u001b[0m\u001b[0m\n\u001b[1;32m     55\u001b[0m                 \u001b[0;32mif\u001b[0m \u001b[0m_object_dtype_isnan\u001b[0m\u001b[0;34m(\u001b[0m\u001b[0mX\u001b[0m\u001b[0;34m)\u001b[0m\u001b[0;34m.\u001b[0m\u001b[0many\u001b[0m\u001b[0;34m(\u001b[0m\u001b[0;34m)\u001b[0m\u001b[0;34m:\u001b[0m\u001b[0;34m\u001b[0m\u001b[0m\n\u001b[0;32m---> 56\u001b[0;31m                     \u001b[0;32mraise\u001b[0m \u001b[0mValueError\u001b[0m\u001b[0;34m(\u001b[0m\u001b[0;34m\"Input contains NaN\"\u001b[0m\u001b[0;34m)\u001b[0m\u001b[0;34m\u001b[0m\u001b[0m\n\u001b[0m\u001b[1;32m     57\u001b[0m \u001b[0;34m\u001b[0m\u001b[0m\n\u001b[1;32m     58\u001b[0m         \u001b[0;32mreturn\u001b[0m \u001b[0mX\u001b[0m\u001b[0;34m\u001b[0m\u001b[0m\n",
      "\u001b[0;31mValueError\u001b[0m: Input contains NaN"
     ]
    }
   ],
   "source": [
    "# Your code here; appropriately define X and Y using dummy variables and normalization for preprocessing.\n",
    "from sklearn.preprocessing import OneHotEncoder, StandardScaler\n",
    "import numpy as np\n",
    "\n",
    "X = df[['loan_amnt', 'home_ownership', 'funded_amnt_inv', 'verification_status',\n",
    "       'emp_length', 'installment', 'annual_inc']]\n",
    "ohe = OneHotEncoder()\n",
    "ss = StandardScaler()\n",
    "\n",
    "enc_ho = X['home_ownership']\n",
    "enc_vs = X['verification_status']\n",
    "enc_emp = X['emp_length']\n",
    "enc_ho = enc_ho.values.reshape(-1,1)\n",
    "enc_vs = enc_vs.values.reshape(-1,1)\n",
    "enc_emp = enc_emp.values.reshape(-1, 1)\n",
    "ohe.fit(enc_ho)\n",
    "enc_ho = pd.DataFrame(ohe.transform(enc_ho).toarray(), columns=ohe.get_feature_names(['home_ownership']))\n",
    "ohe.fit(enc_vs)\n",
    "enc_vs = pd.DataFrame(ohe.transform(enc_vs).toarray(), columns=ohe.get_feature_names(['verification_status']))\n",
    "ohe.fit(enc_emp)\n",
    "enc_emp = pd.DataFrame(ohe.transform(enc_emp).toarray(), columns=ohe.get_feature_names(['emp_length']))\n",
    "\n",
    "X_s = X.drop(['home_ownership', 'verification_status', 'emp_length'],axis=1)\n",
    "X_s = pd.DataFrame(ss.fit_transform(X_s), columns=X_s.columns)\n",
    "\n",
    "X = pd.concat([X_s, enc_ho, enc_vs], axis=1)\n",
    "\n",
    "y = df['total_pymnt']\n",
    "\n"
   ]
  },
  {
   "cell_type": "markdown",
   "metadata": {},
   "source": [
    "## Generating a Hold Out Test Set\n",
    "\n",
    "While we will be using K-fold cross validation to select an optimal model, we still want a final hold out test set that is completely independent of any modelling decisions. As such, pull out a sample of 10% of the total available data. For consistency of results, use random seed 123. "
   ]
  },
  {
   "cell_type": "code",
   "execution_count": 29,
   "metadata": {},
   "outputs": [],
   "source": [
    "# Your code here; generate a hold out test set for final model evaluation. Use random seed 123.\n",
    "from sklearn.model_selection import train_test_split\n",
    "X_train, X_test, y_train, y_test = train_test_split(X, y, test_size=.1, random_state=123)"
   ]
  },
  {
   "cell_type": "markdown",
   "metadata": {},
   "source": [
    "## Defining a K-fold Cross Validation Methodology\n",
    "\n",
    "Now that your have a complete holdout test set, write a function that takes in the remaining data and performs k-folds cross validation given a model object. Be sure your function returns performance metrics regarding the training and validation sets."
   ]
  },
  {
   "cell_type": "code",
   "execution_count": 40,
   "metadata": {},
   "outputs": [],
   "source": [
    "#Your code here; define a function to evaluate a model object using K folds cross validation.\n",
    "from sklearn.model_selection import KFold\n",
    "\n",
    "def k_folds(features_train, labels_train, model_obj, k=10, n_epochs=100):\n",
    "    colors = sns.color_palette(\"Set2\")\n",
    "    kf = KFold(n_splits=10,shuffle=True)\n",
    "    \n",
    "    fig, axes = plt.subplots(2, 5, figsize=(12,8))\n",
    "    validation_scores = []\n",
    "    for i, (train_index, test_index) in enumerate(kf.split(features_train)):\n",
    "        row = i//5\n",
    "        column = i%5\n",
    "        \n",
    "        X_train, X_val = features_train.iloc[train_index], features_train.iloc[test_index]\n",
    "        y_train, y_val = labels_train.iloc[train_index], labels_train.iloc[test_index]\n",
    "        \n",
    "        model = model_obj\n",
    "        hist = model.fit(X_train, y_train, validation_data=(X_val, y_val), epochs=n_epochs, batch_size=32,\n",
    "                        verbose=0)\n",
    "        \n",
    "        validation = model.evaluate(X_val, y_val)\n",
    "        validation_scores.append(validation)\n",
    "        ax = axes[row,col]\n",
    "        k = 'val_loss'\n",
    "        d = hist.history[k]\n",
    "        ax.plot(d, label=k, colors=colors[1])\n",
    "        ax.set_title(f'Fold {i+1} Validation')\n",
    "    plt.subplots_adjust(left=None, right=None, bottom=None, top=None, wspace=.5, hspace=None)\n",
    "    plt.legend(bbox_to_anchor=(1, 1))\n",
    "    \n",
    "    validation_score = np.mean(validation_scores)\n",
    "    print(f'Mean Validation Score: {validation_score}')\n",
    "    print(f'STD of Validation Scores: {np.std(validation_scores)}')\n",
    "    return validation_score"
   ]
  },
  {
   "cell_type": "markdown",
   "metadata": {},
   "source": [
    "## Building a Baseline Model\n",
    "\n",
    "Here, it is also important to define your evaluation metric that you will look to optimize while tuning the model.   \n",
    "\n",
    "In general, model training to optimize this metric may consist of using a validation and test set if data is plentiful, or k-folds cross-validation if data is limited. We set up a k-folds cross-validation for this task since the dataset is not overly large.  \n",
    "\n",
    "Build an initial sequential model with 2 hidden relu layers. The first should have 7 hidden units, and the second 10 hidden units. Finally, add a third layer with a linear activation function to output our predictions for the total loan payment. "
   ]
  },
  {
   "cell_type": "code",
   "execution_count": 41,
   "metadata": {},
   "outputs": [],
   "source": [
    "#Your code here; define and compile an initial model as described\n",
    "from keras import Sequential\n",
    "from keras.layers import Dense\n",
    "\n",
    "inputs = X_train.shape[1]\n",
    "model = Sequential()\n",
    "model.add(Dense(inputs, activation='relu'))\n",
    "model.add(Dense(7, activation='relu'))\n",
    "model.add(Dense(10, activation='relu'))\n",
    "model.add(Dense(1, activation='linear'))\n",
    "model.compile(optimizer='adam', loss='mse', metrics=['acc'])"
   ]
  },
  {
   "cell_type": "markdown",
   "metadata": {},
   "source": [
    "## Evaluating the Baseline Model with K-Folds Cross Validation\n",
    "\n",
    "Use your k-folds function to evaluate the baseline model.  \n",
    "\n",
    "Note: This code block is likely to take 10-20 minutes to run depending on the specs on your computer.\n",
    "Because of time dependencies, it can be interesting to begin timing these operations for future reference.\n",
    "\n",
    "Here's a simple little recipe to achieve this:\n",
    "```\n",
    "import time\n",
    "import datetime\n",
    "\n",
    "now = datetime.datetime.now()\n",
    "later = datetime.datetime.now()\n",
    "elapsed = later - now\n",
    "print('Time Elapsed:', elapsed)\n",
    "```"
   ]
  },
  {
   "cell_type": "code",
   "execution_count": 42,
   "metadata": {},
   "outputs": [
    {
     "ename": "ValueError",
     "evalue": "Please provide as model inputs either a single array or a list of arrays. You passed: x=       loan_amnt home_ownership  funded_amnt_inv verification_status  \\\n28927     6000.0           RENT       5950.00000     Source Verified   \n18623     5000.0           RENT       4950.00000     Source Verified   \n30212    25000.0           RENT      23457.05000            Verified   \n33624    12000.0       MORTGAGE      12000.00000            Verified   \n21095    24000.0       MORTGAGE      23950.00000            Verified   \n23159    15000.0       MORTGAGE      13088.66441     Source Verified   \n8944     10000.0           RENT      10000.00000        Not Verified   \n16768    16225.0       MORTGAGE      16225.00000     Source Verified   \n35123     6000.0       MORTGAGE       5975.00000            Verified   \n8167      8000.0       MORTGAGE       8000.00000        Not Verified   \n25406     5000.0           RENT       5000.00000        Not Verified   \n36852    12000.0       MORTGAGE      11725.00000        Not Verified   \n8315     35000.0       MORTGAGE      26575.00000            Verified   \n8668     12000.0       MORTGAGE      12000.00000            Verified   \n30184    25000.0           RENT      16231.68103            Verified   \n2698      1000.0           RENT       1000.00000            Verified   \n29258    24000.0       MORTGAGE      14950.64088            Verified   \n37594    13000.0           RENT      12499.99959            Verified   \n21144     4200.0            OWN       4175.00000        Not Verified   \n9750      5000.0       MORTGAGE       5000.00000        Not Verified   \n22168    13000.0       MORTGAGE      12475.00000     Source Verified   \n29695    25000.0           RENT      15783.43465            Verified   \n36299     6200.0           RENT       6150.00000            Verified   \n30556    20400.0           RENT      20400.00000            Verified   \n35471     6000.0       MORTGAGE       5950.00000            Verified   \n23284    18000.0       MORTGAGE      17900.00000     Source Verified   \n15021     1800.0           RENT       1800.00000        Not Verified   \n28762     4800.0       MORTGAGE       4721.28235        Not Verified   \n31592     6525.0           RENT       6500.00000        Not Verified   \n11507    15000.0       MORTGAGE      14750.00000     Source Verified   \n...          ...            ...              ...                 ...   \n20355     5000.0            OWN       5000.00000        Not Verified   \n16972    11000.0           RENT      11000.00000        Not Verified   \n2338     12000.0           RENT      12000.00000        Not Verified   \n29534    13200.0       MORTGAGE      12520.83374        Not Verified   \n11894     5000.0           RENT       5000.00000            Verified   \n28513     4500.0           RENT       4500.00000        Not Verified   \n3252      6000.0           RENT       6000.00000            Verified   \n8028     14400.0       MORTGAGE      13400.00000        Not Verified   \n4195     21000.0           RENT      21000.00000            Verified   \n23728    10000.0       MORTGAGE       9950.00000     Source Verified   \n22461     9600.0       MORTGAGE       9525.00000        Not Verified   \n6648     30100.0       MORTGAGE      30100.00000            Verified   \n30255    24000.0           RENT      23673.01145            Verified   \n42535     2525.0           RENT        225.00000        Not Verified   \n6484     30000.0       MORTGAGE      29500.00000            Verified   \n26626     8400.0       MORTGAGE       8300.00000            Verified   \n7985     25000.0           RENT      19800.00000            Verified   \n17476     2500.0            OWN       2500.00000     Source Verified   \n31140     5000.0           RENT       5000.00000        Not Verified   \n3325      1500.0            OWN       1500.00000        Not Verified   \n17747    34000.0       MORTGAGE      33068.77746            Verified   \n36249     2800.0            OWN       2775.00000        Not Verified   \n33710     2500.0           RENT       2500.00000        Not Verified   \n5664     15000.0       MORTGAGE      15000.00000            Verified   \n23166     7000.0           RENT       6900.00000            Verified   \n23766    15600.0       MORTGAGE      12771.01835     Source Verified   \n7763     35000.0       MORTGAGE      27597.14945            Verified   \n15377    10000.0       MORTGAGE      10000.00000            Verified   \n17730     5425.0            OWN       5425.00000        Not Verified   \n15725     3150.0           RENT       3150.00000            Verified   \n\n      emp_length  installment  annual_inc  \n28927    5 years       195.73     50000.0  \n18623     1 year       160.47     65000.0  \n30212     1 year       839.16    103250.0  \n33624  10+ years       407.63     98004.0  \n21095    6 years       588.75     90000.0  \n23159  10+ years       460.01     74400.0  \n8944     7 years       315.63     24000.0  \n16768  10+ years       350.68     70800.0  \n35123    2 years       204.83     62000.0  \n8167         NaN       243.34     32000.0  \n25406     1 year       155.56     38250.0  \n36852    9 years       383.37     54000.0  \n8315     6 years       680.49    125000.0  \n8668   10+ years       404.27    150000.0  \n30184   < 1 year       843.63    106000.0  \n2698         NaN        34.50     11820.0  \n29258    6 years       373.28     88100.0  \n37594     1 year       441.00     51996.0  \n21144    6 years        89.99     44500.0  \n9750   10+ years       157.82     33000.0  \n22168    5 years       400.87     37200.0  \n29695    4 years       403.03     99996.0  \n36299    7 years       211.27     45000.0  \n30556    2 years       660.65     80004.0  \n35471    2 years       189.67     52000.0  \n23284    5 years       469.81     60000.0  \n15021  10+ years        39.58     27000.0  \n28762    2 years       146.88     52000.0  \n31592     1 year       229.64     38000.0  \n11507    9 years       391.51     75000.0  \n...          ...          ...         ...  \n20355  10+ years       155.05     60000.0  \n16972    8 years       341.11     44000.0  \n2338     4 years       373.33     32000.0  \n29534  10+ years       334.70     62400.0  \n11894    4 years       177.00    200000.0  \n28513    7 years       155.38     90750.0  \n3252     2 years       155.75     38400.0  \n8028     4 years       313.02     70000.0  \n4195      1 year       676.73     93000.0  \n23728    2 years       377.47    108000.0  \n22461  10+ years       289.54     75000.0  \n6648     6 years       787.79    100000.0  \n30255    2 years       818.50     60000.0  \n42535   < 1 year        80.69    110000.0  \n6484   10+ years       921.11     94000.0  \n26626    8 years       261.34     39700.0  \n7985     6 years       436.46    117000.0  \n17476    2 years        80.24     20004.0  \n31140    2 years       161.06     42000.0  \n3325     6 years        48.86     34056.0  \n17747    2 years       728.61    195000.0  \n36249    4 years        96.28     54000.0  \n33710    5 years        82.01     55000.0  \n5664     9 years       488.60     85000.0  \n23166    2 years       159.20     36188.0  \n23766  10+ years       273.76     80000.0  \n7763   10+ years       634.10     74004.0  \n15377        NaN       308.73     61000.0  \n17730    5 years       186.84    150000.0  \n15725    9 years       103.12     15300.0  \n\n[34455 rows x 7 columns]",
     "output_type": "error",
     "traceback": [
      "\u001b[0;31m\u001b[0m",
      "\u001b[0;31mValueError\u001b[0mTraceback (most recent call last)",
      "\u001b[0;32m<ipython-input-42-4b430ca9b779>\u001b[0m in \u001b[0;36m<module>\u001b[0;34m()\u001b[0m\n\u001b[1;32m      6\u001b[0m \u001b[0mget_ipython\u001b[0m\u001b[0;34m(\u001b[0m\u001b[0;34m)\u001b[0m\u001b[0;34m.\u001b[0m\u001b[0mrun_line_magic\u001b[0m\u001b[0;34m(\u001b[0m\u001b[0;34m'matplotlib'\u001b[0m\u001b[0;34m,\u001b[0m \u001b[0;34m'inline'\u001b[0m\u001b[0;34m)\u001b[0m\u001b[0;34m\u001b[0m\u001b[0m\n\u001b[1;32m      7\u001b[0m \u001b[0mnow\u001b[0m \u001b[0;34m=\u001b[0m \u001b[0mdatetime\u001b[0m\u001b[0;34m.\u001b[0m\u001b[0mdatetime\u001b[0m\u001b[0;34m.\u001b[0m\u001b[0mnow\u001b[0m\u001b[0;34m(\u001b[0m\u001b[0;34m)\u001b[0m\u001b[0;34m\u001b[0m\u001b[0m\n\u001b[0;32m----> 8\u001b[0;31m \u001b[0mk_folds\u001b[0m\u001b[0;34m(\u001b[0m\u001b[0mX_train\u001b[0m\u001b[0;34m,\u001b[0m \u001b[0my_train\u001b[0m\u001b[0;34m,\u001b[0m \u001b[0mmodel\u001b[0m\u001b[0;34m)\u001b[0m\u001b[0;34m\u001b[0m\u001b[0m\n\u001b[0m\u001b[1;32m      9\u001b[0m \u001b[0mlater\u001b[0m \u001b[0;34m=\u001b[0m \u001b[0mdatetime\u001b[0m\u001b[0;34m.\u001b[0m\u001b[0mdatetime\u001b[0m\u001b[0;34m.\u001b[0m\u001b[0mnow\u001b[0m\u001b[0;34m(\u001b[0m\u001b[0;34m)\u001b[0m\u001b[0;34m\u001b[0m\u001b[0m\n\u001b[1;32m     10\u001b[0m \u001b[0melapsed\u001b[0m \u001b[0;34m=\u001b[0m \u001b[0mlater\u001b[0m\u001b[0;34m-\u001b[0m\u001b[0mnow\u001b[0m\u001b[0;34m\u001b[0m\u001b[0m\n",
      "\u001b[0;32m<ipython-input-40-80edd6c2ff5a>\u001b[0m in \u001b[0;36mk_folds\u001b[0;34m(features_train, labels_train, model_obj, k, n_epochs)\u001b[0m\n\u001b[1;32m     19\u001b[0m         \u001b[0mmodel\u001b[0m \u001b[0;34m=\u001b[0m \u001b[0mmodel_obj\u001b[0m\u001b[0;34m\u001b[0m\u001b[0m\n\u001b[1;32m     20\u001b[0m         hist = model.fit(X_train, y_train, batch_size=32,\n\u001b[0;32m---> 21\u001b[0;31m                          epochs=n_epochs, verbose=0, validation_data = (X_val, y_val))\n\u001b[0m\u001b[1;32m     22\u001b[0m         \u001b[0;31m#Note: verboxe=0 turns off printouts regarding training for each epoch.\u001b[0m\u001b[0;34m\u001b[0m\u001b[0;34m\u001b[0m\u001b[0m\n\u001b[1;32m     23\u001b[0m         \u001b[0;31m#Potential simpler methodology\u001b[0m\u001b[0;34m\u001b[0m\u001b[0;34m\u001b[0m\u001b[0m\n",
      "\u001b[0;32m/opt/conda/envs/learn-env/lib/python3.6/site-packages/keras/engine/training.py\u001b[0m in \u001b[0;36mfit\u001b[0;34m(self, x, y, batch_size, epochs, verbose, callbacks, validation_split, validation_data, shuffle, class_weight, sample_weight, initial_epoch, steps_per_epoch, validation_steps, **kwargs)\u001b[0m\n\u001b[1;32m    948\u001b[0m             \u001b[0msample_weight\u001b[0m\u001b[0;34m=\u001b[0m\u001b[0msample_weight\u001b[0m\u001b[0;34m,\u001b[0m\u001b[0;34m\u001b[0m\u001b[0m\n\u001b[1;32m    949\u001b[0m             \u001b[0mclass_weight\u001b[0m\u001b[0;34m=\u001b[0m\u001b[0mclass_weight\u001b[0m\u001b[0;34m,\u001b[0m\u001b[0;34m\u001b[0m\u001b[0m\n\u001b[0;32m--> 950\u001b[0;31m             batch_size=batch_size)\n\u001b[0m\u001b[1;32m    951\u001b[0m         \u001b[0;31m# Prepare validation data.\u001b[0m\u001b[0;34m\u001b[0m\u001b[0;34m\u001b[0m\u001b[0m\n\u001b[1;32m    952\u001b[0m         \u001b[0mdo_validation\u001b[0m \u001b[0;34m=\u001b[0m \u001b[0;32mFalse\u001b[0m\u001b[0;34m\u001b[0m\u001b[0m\n",
      "\u001b[0;32m/opt/conda/envs/learn-env/lib/python3.6/site-packages/keras/engine/training.py\u001b[0m in \u001b[0;36m_standardize_user_data\u001b[0;34m(self, x, y, sample_weight, class_weight, check_array_lengths, batch_size)\u001b[0m\n\u001b[1;32m    662\u001b[0m                                      \u001b[0;34m'either a single '\u001b[0m\u001b[0;34m\u001b[0m\u001b[0m\n\u001b[1;32m    663\u001b[0m                                      \u001b[0;34m'array or a list of arrays. '\u001b[0m\u001b[0;34m\u001b[0m\u001b[0m\n\u001b[0;32m--> 664\u001b[0;31m                                      'You passed: x=' + str(x))\n\u001b[0m\u001b[1;32m    665\u001b[0m                 \u001b[0mall_inputs\u001b[0m\u001b[0;34m.\u001b[0m\u001b[0mappend\u001b[0m\u001b[0;34m(\u001b[0m\u001b[0mx\u001b[0m\u001b[0;34m)\u001b[0m\u001b[0;34m\u001b[0m\u001b[0m\n\u001b[1;32m    666\u001b[0m \u001b[0;34m\u001b[0m\u001b[0m\n",
      "\u001b[0;31mValueError\u001b[0m: Please provide as model inputs either a single array or a list of arrays. You passed: x=       loan_amnt home_ownership  funded_amnt_inv verification_status  \\\n28927     6000.0           RENT       5950.00000     Source Verified   \n18623     5000.0           RENT       4950.00000     Source Verified   \n30212    25000.0           RENT      23457.05000            Verified   \n33624    12000.0       MORTGAGE      12000.00000            Verified   \n21095    24000.0       MORTGAGE      23950.00000            Verified   \n23159    15000.0       MORTGAGE      13088.66441     Source Verified   \n8944     10000.0           RENT      10000.00000        Not Verified   \n16768    16225.0       MORTGAGE      16225.00000     Source Verified   \n35123     6000.0       MORTGAGE       5975.00000            Verified   \n8167      8000.0       MORTGAGE       8000.00000        Not Verified   \n25406     5000.0           RENT       5000.00000        Not Verified   \n36852    12000.0       MORTGAGE      11725.00000        Not Verified   \n8315     35000.0       MORTGAGE      26575.00000            Verified   \n8668     12000.0       MORTGAGE      12000.00000            Verified   \n30184    25000.0           RENT      16231.68103            Verified   \n2698      1000.0           RENT       1000.00000            Verified   \n29258    24000.0       MORTGAGE      14950.64088            Verified   \n37594    13000.0           RENT      12499.99959            Verified   \n21144     4200.0            OWN       4175.00000        Not Verified   \n9750      5000.0       MORTGAGE       5000.00000        Not Verified   \n22168    13000.0       MORTGAGE      12475.00000     Source Verified   \n29695    25000.0           RENT      15783.43465            Verified   \n36299     6200.0           RENT       6150.00000            Verified   \n30556    20400.0           RENT      20400.00000            Verified   \n35471     6000.0       MORTGAGE       5950.00000            Verified   \n23284    18000.0       MORTGAGE      17900.00000     Source Verified   \n15021     1800.0           RENT       1800.00000        Not Verified   \n28762     4800.0       MORTGAGE       4721.28235        Not Verified   \n31592     6525.0           RENT       6500.00000        Not Verified   \n11507    15000.0       MORTGAGE      14750.00000     Source Verified   \n...          ...            ...              ...                 ...   \n20355     5000.0            OWN       5000.00000        Not Verified   \n16972    11000.0           RENT      11000.00000        Not Verified   \n2338     12000.0           RENT      12000.00000        Not Verified   \n29534    13200.0       MORTGAGE      12520.83374        Not Verified   \n11894     5000.0           RENT       5000.00000            Verified   \n28513     4500.0           RENT       4500.00000        Not Verified   \n3252      6000.0           RENT       6000.00000            Verified   \n8028     14400.0       MORTGAGE      13400.00000        Not Verified   \n4195     21000.0           RENT      21000.00000            Verified   \n23728    10000.0       MORTGAGE       9950.00000     Source Verified   \n22461     9600.0       MORTGAGE       9525.00000        Not Verified   \n6648     30100.0       MORTGAGE      30100.00000            Verified   \n30255    24000.0           RENT      23673.01145            Verified   \n42535     2525.0           RENT        225.00000        Not Verified   \n6484     30000.0       MORTGAGE      29500.00000            Verified   \n26626     8400.0       MORTGAGE       8300.00000            Verified   \n7985     25000.0           RENT      19800.00000            Verified   \n17476     2500.0            OWN       2500.00000     Source Verified   \n31140     5000.0           RENT       5000.00000        Not Verified   \n3325      1500.0            OWN       1500.00000        Not Verified   \n17747    34000.0       MORTGAGE      33068.77746            Verified   \n36249     2800.0            OWN       2775.00000        Not Verified   \n33710     2500.0           RENT       2500.00000        Not Verified   \n5664     15000.0       MORTGAGE      15000.00000            Verified   \n23166     7000.0           RENT       6900.00000            Verified   \n23766    15600.0       MORTGAGE      12771.01835     Source Verified   \n7763     35000.0       MORTGAGE      27597.14945            Verified   \n15377    10000.0       MORTGAGE      10000.00000            Verified   \n17730     5425.0            OWN       5425.00000        Not Verified   \n15725     3150.0           RENT       3150.00000            Verified   \n\n      emp_length  installment  annual_inc  \n28927    5 years       195.73     50000.0  \n18623     1 year       160.47     65000.0  \n30212     1 year       839.16    103250.0  \n33624  10+ years       407.63     98004.0  \n21095    6 years       588.75     90000.0  \n23159  10+ years       460.01     74400.0  \n8944     7 years       315.63     24000.0  \n16768  10+ years       350.68     70800.0  \n35123    2 years       204.83     62000.0  \n8167         NaN       243.34     32000.0  \n25406     1 year       155.56     38250.0  \n36852    9 years       383.37     54000.0  \n8315     6 years       680.49    125000.0  \n8668   10+ years       404.27    150000.0  \n30184   < 1 year       843.63    106000.0  \n2698         NaN        34.50     11820.0  \n29258    6 years       373.28     88100.0  \n37594     1 year       441.00     51996.0  \n21144    6 years        89.99     44500.0  \n9750   10+ years       157.82     33000.0  \n22168    5 years       400.87     37200.0  \n29695    4 years       403.03     99996.0  \n36299    7 years       211.27     45000.0  \n30556    2 years       660.65     80004.0  \n35471    2 years       189.67     52000.0  \n23284    5 years       469.81     60000.0  \n15021  10+ years        39.58     27000.0  \n28762    2 years       146.88     52000.0  \n31592     1 year       229.64     38000.0  \n11507    9 years       391.51     75000.0  \n...          ...          ...         ...  \n20355  10+ years       155.05     60000.0  \n16972    8 years       341.11     44000.0  \n2338     4 years       373.33     32000.0  \n29534  10+ years       334.70     62400.0  \n11894    4 years       177.00    200000.0  \n28513    7 years       155.38     90750.0  \n3252     2 years       155.75     38400.0  \n8028     4 years       313.02     70000.0  \n4195      1 year       676.73     93000.0  \n23728    2 years       377.47    108000.0  \n22461  10+ years       289.54     75000.0  \n6648     6 years       787.79    100000.0  \n30255    2 years       818.50     60000.0  \n42535   < 1 year        80.69    110000.0  \n6484   10+ years       921.11     94000.0  \n26626    8 years       261.34     39700.0  \n7985     6 years       436.46    117000.0  \n17476    2 years        80.24     20004.0  \n31140    2 years       161.06     42000.0  \n3325     6 years        48.86     34056.0  \n17747    2 years       728.61    195000.0  \n36249    4 years        96.28     54000.0  \n33710    5 years        82.01     55000.0  \n5664     9 years       488.60     85000.0  \n23166    2 years       159.20     36188.0  \n23766  10+ years       273.76     80000.0  \n7763   10+ years       634.10     74004.0  \n15377        NaN       308.73     61000.0  \n17730    5 years       186.84    150000.0  \n15725    9 years       103.12     15300.0  \n\n[34455 rows x 7 columns]"
     ]
    },
    {
     "data": {
      "image/png": "[encoded data removed]",
      "text/plain": [
       "<Figure size 864x576 with 10 Axes>"
      ]
     },
     "metadata": {
      "needs_background": "light"
     },
     "output_type": "display_data"
    }
   ],
   "source": [
    "#Your code here; use your k-folds function to evaluate the baseline model.\n",
    "import time\n",
    "import datetime\n",
    "import seaborn as sns\n",
    "import matplotlib.pyplot as plt\n",
    "%matplotlib inline\n",
    "now = datetime.datetime.now()\n",
    "k_folds(X_train, y_train, model)\n",
    "later = datetime.datetime.now()\n",
    "elapsed = later-now\n",
    "print('Time Elapsed:', elapsed)"
   ]
  },
  {
   "cell_type": "markdown",
   "metadata": {},
   "source": [
    "## Intentionally Overfitting a Model\n",
    "\n",
    "Now that you've developed a baseline model, its time to intentionally overfit a model. To overfit a model, you can:\n",
    "* Add layers\n",
    "* Make the layers bigger\n",
    "* Increase the number of training epochs\n",
    "\n",
    "Again, be careful here. Think about the limitations of your resources, both in terms of your computers specs and how much time and patience you have to let the process run. Also keep in mind that you will then be regularizing these overfit models, meaning another round of experiments and more time and resources.  \n",
    "\n",
    "For example, here are some timing notes on potential experiments run on a Macbook Pro 3.1 GHz Intel Core i5 with 16gb of RAM:\n",
    "\n",
    "* Using our 10 fold cross validation methodology, a 5-layer neural network with 10 units per hidden layer and 100 epochs took approximately 15 minutes to train and validate  \n",
    "\n",
    "* Using our 10 fold cross validation methodology, a 5-layer neural network with 25 units per hidden layer and 100 epochs took approximately 25 minutes to train and validate  \n",
    "\n",
    "* Using our 10 fold cross validation methodology, a 5-layer neural network with 10 units per hidden layer and 250 epochs took approximately 45 minutes to train and validate\n"
   ]
  },
  {
   "cell_type": "code",
   "execution_count": null,
   "metadata": {},
   "outputs": [],
   "source": [
    "#Your code here; try some methods to overfit your network"
   ]
  },
  {
   "cell_type": "code",
   "execution_count": null,
   "metadata": {},
   "outputs": [],
   "source": [
    "#Your code here; try some methods to overfit your network"
   ]
  },
  {
   "cell_type": "code",
   "execution_count": null,
   "metadata": {},
   "outputs": [],
   "source": [
    "#Your code here; try some methods to overfit your network"
   ]
  },
  {
   "cell_type": "markdown",
   "metadata": {},
   "source": [
    "## Regularizing the Model to Achieve Balance  \n",
    "\n",
    "Now that you have a powerful model (albeit an overfit one), we can now increase the generalization of the model by using some of the regularization techniques we discussed. Some options you have to try include:  \n",
    "* Adding dropout\n",
    "* Adding L1/L2 regularization\n",
    "* Altering the layer architecture (add or remove layers similar to above)  \n",
    "\n",
    "This process will be constrained by time and resources. Be sure to test at least 2 different methodologies, such as dropout and L2 regularization. If you have the time, feel free to continue experimenting.\n",
    "\n",
    "Notes: "
   ]
  },
  {
   "cell_type": "code",
   "execution_count": null,
   "metadata": {},
   "outputs": [],
   "source": [
    "#Your code here; try some regularization or other methods to tune your network"
   ]
  },
  {
   "cell_type": "code",
   "execution_count": null,
   "metadata": {},
   "outputs": [],
   "source": [
    "#Your code here; try some regularization or other methods to tune your network"
   ]
  },
  {
   "cell_type": "code",
   "execution_count": null,
   "metadata": {},
   "outputs": [],
   "source": [
    "#Your code here; try some regularization or other methods to tune your network"
   ]
  },
  {
   "cell_type": "code",
   "execution_count": null,
   "metadata": {},
   "outputs": [],
   "source": [
    "#Your code here; try some regularization or other methods to tune your network"
   ]
  },
  {
   "cell_type": "markdown",
   "metadata": {},
   "source": [
    "## Final Evaluation\n",
    "\n",
    "Now that you have selected a network architecture, tested various regularization procedures and tuned hyperparameters via a validation methodology, it is time to evaluate your finalized model once and for all. Fit the model using all of the training and validation data using the architecture and hyperparameters that were most effective in your expirements above. Afterwards, measure the overall performance on the hold-out test data which has been left untouched (and hasn't leaked any data into the modelling process)!"
   ]
  },
  {
   "cell_type": "code",
   "execution_count": null,
   "metadata": {},
   "outputs": [],
   "source": [
    "#Your code here; final model training on entire training set followed by evaluation on hold-out data"
   ]
  },
  {
   "cell_type": "markdown",
   "metadata": {},
   "source": [
    "## Additional Resources"
   ]
  },
  {
   "cell_type": "markdown",
   "metadata": {},
   "source": [
    "https://machinelearningmastery.com/dropout-regularization-deep-learning-models-keras/\n",
    "\n",
    "https://machinelearningmastery.com/grid-search-hyperparameters-deep-learning-models-python-keras/\n",
    "\n",
    "https://machinelearningmastery.com/regression-tutorial-keras-deep-learning-library-python/\n",
    "\n",
    "https://stackoverflow.com/questions/37232782/nan-loss-when-training-regression-network\n",
    "https://www.springboard.com/blog/free-public-data-sets-data-science-project/"
   ]
  },
  {
   "cell_type": "markdown",
   "metadata": {},
   "source": [
    "## Summary\n",
    "\n",
    "In this lab, we investigated some data from *The Lending Club* in a complete data science pipeline regarding neural networks. We began with reserving a hold-out set for testing which never was touched during the modeling phase. From there, we implemented a k-fold cross validation methodology in order to assess an initial baseline model and various regularization methods. From here, we'll begin to investigate other neural network architectures such as CNNs."
   ]
  }
 ],
 "metadata": {
  "kernelspec": {
   "display_name": "Python 3",
   "language": "python",
   "name": "python3"
  },
  "language_info": {
   "codemirror_mode": {
    "name": "ipython",
    "version": 3
   },
   "file_extension": ".py",
   "mimetype": "text/x-python",
   "name": "python",
   "nbconvert_exporter": "python",
   "pygments_lexer": "ipython3",
   "version": "3.6.6"
  }
 },
 "nbformat": 4,
 "nbformat_minor": 2
}
